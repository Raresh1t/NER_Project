{
 "cells": [
  {
   "cell_type": "code",
   "execution_count": 18,
   "id": "62ddcf42-5245-42c2-b7a7-4218b8f6cccf",
   "metadata": {},
   "outputs": [],
   "source": [
    "import json\n",
    "import pandas as pd\n",
    "from transformers import AutoTokenizer\n",
    "\n",
    "with open('../labeled_data/gold_labels/reconstructed_gold_labels.json', 'r') as f:\n",
    "    data = json.load(f)\n",
    "\n",
    "texts = [item['text'] for item in data]\n",
    "entities = [item['entities'] for item in data]\n",
    "df = pd.DataFrame({'text': texts, 'entities': entities})"
   ]
  },
  {
   "cell_type": "code",
   "execution_count": 20,
   "id": "5645404d-0e2d-41be-8f21-c3c4f210a769",
   "metadata": {},
   "outputs": [],
   "source": [
    "tokenizer = AutoTokenizer.from_pretrained(\"dslim/bert-base-NER\")\n",
    "df['tokenized'] = df['text'].apply(\n",
    "    lambda x: tokenizer(x, return_offsets_mapping=True, truncation=True, padding=True)\n",
    ")"
   ]
  },
  {
   "cell_type": "code",
   "execution_count": 22,
   "id": "53b7e5fb-eae0-4526-9d69-037431c75f3f",
   "metadata": {},
   "outputs": [],
   "source": [
    "def align_labels_to_tokens(text, entities, tokenized):\n",
    "    offset_mapping = tokenized['offset_mapping']\n",
    "    labels = [\"O\"] * len(offset_mapping) # Initialize all tokens with \"O\"\n",
    "\n",
    "    for entity in entities:\n",
    "        start, end, label_type = entity['start'], entity['end'], entity['type']\n",
    "\n",
    "        for idx, (token_start, token_end) in enumerate(offset_mapping):\n",
    "            if token_start is None or token_end is None:\n",
    "                continue\n",
    "            if token_start >= start and token_end <= end:\n",
    "                if token_start == start:\n",
    "                    labels[idx] = f\"B-{label_type}\"\n",
    "                else:\n",
    "                    labels[idx] = f\"I-{label_type}\"\n",
    "\n",
    "    return labels\n",
    "\n",
    "df['labels'] = df.apply(lambda row: align_labels_to_tokens(row['text'], row['entities'], row['tokenized']), axis=1)"
   ]
  },
  {
   "cell_type": "code",
   "execution_count": 23,
   "id": "ad751a07-b0af-4036-9da7-d9eac01ed409",
   "metadata": {},
   "outputs": [],
   "source": [
    "# Save to JSON or CSV format\n",
    "output_data = []\n",
    "for _, row in df.iterrows():\n",
    "    tokens = tokenizer.convert_ids_to_tokens(row['tokenized']['input_ids'])\n",
    "    labels = row['labels']\n",
    "    output_data.append({'tokens': tokens, 'labels': labels})\n",
    "\n",
    "# Save the processed data\n",
    "with open('tokenized_ner_data.json', 'w') as f:\n",
    "    json.dump(output_data, f, indent=4)"
   ]
  }
 ],
 "metadata": {
  "kernelspec": {
   "display_name": "Python 3 (ipykernel)",
   "language": "python",
   "name": "python3"
  },
  "language_info": {
   "codemirror_mode": {
    "name": "ipython",
    "version": 3
   },
   "file_extension": ".py",
   "mimetype": "text/x-python",
   "name": "python",
   "nbconvert_exporter": "python",
   "pygments_lexer": "ipython3",
   "version": "3.12.8"
  }
 },
 "nbformat": 4,
 "nbformat_minor": 5
}
