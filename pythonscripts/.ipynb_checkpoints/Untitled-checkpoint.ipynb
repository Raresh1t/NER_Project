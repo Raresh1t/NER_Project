{
 "cells": [
  {
   "cell_type": "code",
   "execution_count": 1,
   "id": "1754abd5-f60d-42f2-89f9-ec4568b1b52e",
   "metadata": {},
   "outputs": [],
   "source": [
    "import re\n",
    "import json"
   ]
  },
  {
   "cell_type": "code",
   "execution_count": 8,
   "id": "e3122197-dcd1-47f6-8d6c-9408ead79c31",
   "metadata": {},
   "outputs": [],
   "source": [
    "def clean_text_and_adjust_entities(data):\n",
    "    \"\"\"\n",
    "    Cleans the text and adjusts entity offsets to match the cleaned text.\n",
    "    \n",
    "    :param data: List of dictionaries containing 'text' and 'entities'.\n",
    "    :return: Cleaned data with adjusted entity offsets.\n",
    "    \"\"\"\n",
    "    cleaned_data = []\n",
    "\n",
    "    for item in data:\n",
    "        original_text = item[\"text\"]\n",
    "        entities = item[\"entities\"]\n",
    "\n",
    "        # Clean the text and generate an offset map\n",
    "        cleaned_text, offset_map = clean_and_map_offsets(original_text)\n",
    "\n",
    "        # Adjust entity offsets\n",
    "        adjusted_entities = []\n",
    "        for entity in entities:\n",
    "            adjusted_start = offset_map.get(entity[\"start\"], None)\n",
    "            adjusted_end = offset_map.get(entity[\"end\"], None)\n",
    "\n",
    "            if adjusted_start is not None and adjusted_end is not None:\n",
    "                # Extract the text based on adjusted offsets\n",
    "                adjusted_text = cleaned_text[adjusted_start:adjusted_end]\n",
    "                \n",
    "                # Validate adjusted text with original entity text\n",
    "                if entity[\"text\"].strip() in adjusted_text or adjusted_text in entity[\"text\"].strip():\n",
    "                    # Append adjusted entity\n",
    "                    adjusted_entities.append({\n",
    "                        \"start\": adjusted_start,\n",
    "                        \"end\": adjusted_end,\n",
    "                        \"type\": entity[\"type\"],\n",
    "                        \"text\": adjusted_text\n",
    "                    })\n",
    "                else:\n",
    "                    # Fallback: Use the original entity text if mismatch occurs\n",
    "                    adjusted_entities.append({\n",
    "                        \"start\": adjusted_start,\n",
    "                        \"end\": adjusted_end,\n",
    "                        \"type\": entity[\"type\"],\n",
    "                        \"text\": entity[\"text\"]\n",
    "                    })\n",
    "\n",
    "        # Append cleaned text and adjusted entities to the result\n",
    "        cleaned_data.append({\n",
    "            \"text\": cleaned_text,\n",
    "            \"entities\": adjusted_entities\n",
    "        })\n",
    "\n",
    "    return cleaned_data"
   ]
  },
  {
   "cell_type": "code",
   "execution_count": 9,
   "id": "7bdc5499-5083-45ca-83fe-7270f004fd50",
   "metadata": {},
   "outputs": [],
   "source": [
    "def clean_and_map_offsets(text):\n",
    "    \"\"\"\n",
    "    Cleans the text and creates a mapping of original to new offsets.\n",
    "\n",
    "    :param text: Original text.\n",
    "    :return: Cleaned text and a mapping of original to new offsets.\n",
    "    \"\"\"\n",
    "    original_index = 0\n",
    "    new_index = 0\n",
    "    offset_map = {}\n",
    "    cleaned_text = []\n",
    "\n",
    "    for char in text:\n",
    "        if char in [\"\\n\", \"\\u00a0\", \"\\\"]:  # Replace specific characters\n",
    "            char = \" \"\n",
    "        if char.isspace() and (not cleaned_text or cleaned_text[-1] == \" \"):  # Avoid multiple spaces\n",
    "            original_index += 1\n",
    "            continue\n",
    "\n",
    "        cleaned_text.append(char)\n",
    "        offset_map[original_index] = new_index\n",
    "        original_index += 1\n",
    "        new_index += 1\n",
    "\n",
    "    # Join the cleaned text\n",
    "    cleaned_text = \"\".join(cleaned_text)\n",
    "    return cleaned_text, offset_map\n"
   ]
  },
  {
   "cell_type": "code",
   "execution_count": 10,
   "id": "ec56c265-c529-4821-922a-8684cb0ee621",
   "metadata": {
    "scrolled": true
   },
   "outputs": [
    {
     "name": "stdout",
     "output_type": "stream",
     "text": [
      "Fixed gold labels saved to ../Labeled_data/gold_labels/cleaned_gold_labels.json\n"
     ]
    }
   ],
   "source": [
    "input_file_path = '../Labeled_data/gold_labels/reconstructed_gold_labels.json'\n",
    "output_file_path = '../Labeled_data/gold_labels/cleaned_gold_labels.json'\n",
    "\n",
    "with open(input_file_path, 'r', encoding='utf-8') as file:\n",
    "    gold_labels = json.load(file)\n",
    "\n",
    "# Clean and normalize the gold labels\n",
    "fixed_gold_labels = clean_text_and_adjust_entities(gold_labels)\n",
    "\n",
    "# Save the fixed data to a new JSON file\n",
    "with open(output_file_path, 'w', encoding='utf-8') as file:\n",
    "    json.dump(fixed_gold_labels, file, ensure_ascii=False, indent=4)\n",
    "\n",
    "print(f\"Fixed gold labels saved to {output_file_path}\")"
   ]
  },
  {
   "cell_type": "code",
   "execution_count": null,
   "id": "751b1371-4fc9-4bfb-a065-b0b835cb524e",
   "metadata": {},
   "outputs": [],
   "source": []
  }
 ],
 "metadata": {
  "kernelspec": {
   "display_name": "Python 3 (ipykernel)",
   "language": "python",
   "name": "python3"
  },
  "language_info": {
   "codemirror_mode": {
    "name": "ipython",
    "version": 3
   },
   "file_extension": ".py",
   "mimetype": "text/x-python",
   "name": "python",
   "nbconvert_exporter": "python",
   "pygments_lexer": "ipython3",
   "version": "3.11.4"
  }
 },
 "nbformat": 4,
 "nbformat_minor": 5
}
