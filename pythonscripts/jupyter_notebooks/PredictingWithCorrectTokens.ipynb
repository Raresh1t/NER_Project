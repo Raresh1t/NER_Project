{
 "cells": [
  {
   "cell_type": "code",
   "execution_count": 49,
   "id": "bb480164-792b-4dbc-805a-144909bfb1c0",
   "metadata": {},
   "outputs": [],
   "source": [
    "import json\n",
    "import pandas as pd\n",
    "from sklearn.metrics import classification_report\n",
    "from transformers import AutoTokenizer, AutoModelForTokenClassification, pipeline\n",
    "\n",
    "# Load your labeled dataset (gold labels)\n",
    "with open('tokenized_ner_data_6.json', 'r') as f:\n",
    "    data = json.load(f)\n",
    "\n",
    "# Convert to a DataFrame for easier handling\n",
    "df = pd.DataFrame(data)"
   ]
  },
  {
   "cell_type": "code",
   "execution_count": 50,
   "id": "13386a3d-7b37-43a3-82ab-8a140f40544c",
   "metadata": {},
   "outputs": [
    {
     "name": "stderr",
     "output_type": "stream",
     "text": [
      "Device set to use cuda:0\n"
     ]
    }
   ],
   "source": [
    "# Load the pre-trained NER model and tokenizer\n",
    "model_name = \"ner_model_2\"\n",
    "#\"dslim/bert-base-NER\"\n",
    "tokenizer = AutoTokenizer.from_pretrained(model_name)\n",
    "model = AutoModelForTokenClassification.from_pretrained(model_name)\n",
    "\n",
    "# Create a pipeline for NER\n",
    "ner_pipeline = pipeline(\"ner\", model=model, tokenizer=tokenizer, aggregation_strategy=\"first\")"
   ]
  },
  {
   "cell_type": "code",
   "execution_count": 51,
   "id": "1d2187d4-3747-4652-89b8-cc28983ff3d0",
   "metadata": {},
   "outputs": [],
   "source": [
    "label_mapping = {\n",
    "    'MAL-ORG': 'I-ORG',  # Map MAL-ORG to I-ORG\n",
    "    'ORG': 'I-ORG',       # Map ORG to I-ORG\n",
    "    'PER': 'I-PER',       # Map PERSON entities to I-PER\n",
    "    'LOC': 'I-LOC',       # Map LOCATION entities to I-LOC\n",
    "    'Event': 'I-MISC',    # Map Event-related entities to I-MISC\n",
    "    'Software': 'I-MISC', # Map Software-related entities to I-MISC\n",
    "    'CVE': 'I-MISC',      # Map CVE to I-MISC\n",
    "    'Malware': 'I-MISC',  # Map Malware to I-MISC\n",
    "    'MISC': 'I-MISC',      # General MISC category to I-MISC\n",
    "}"
   ]
  },
  {
   "cell_type": "code",
   "execution_count": 52,
   "id": "c4ff4e9c-1819-47ee-8657-b4cd71ae5ffe",
   "metadata": {},
   "outputs": [],
   "source": [
    "def map_labels(labels, label_mapping):\n",
    "    \"\"\"\n",
    "    Map domain-specific labels to generic labels using the provided mapping.\n",
    "    \"\"\"\n",
    "    mapped_labels = []\n",
    "    for label in labels:\n",
    "        if label == \"O\":  # Keep \"O\" as is\n",
    "            mapped_labels.append(label)\n",
    "        else:\n",
    "            # Extract the prefix (B- or I-) and the entity type\n",
    "            prefix = label[:2]  # \"B-\" or \"I-\"\n",
    "            entity_type = label[2:]  # The rest of the label\n",
    "\n",
    "            # Map the entity type using the mapping\n",
    "            mapped_entity = label_mapping.get(entity_type, \"O\")  # Default to \"O\" if not in mapping\n",
    "\n",
    "            # Combine the prefix with the mapped entity type only once\n",
    "            mapped_labels.append(f\"{prefix}{mapped_entity.lstrip('B-').lstrip('I-')}\")\n",
    "    return mapped_labels"
   ]
  },
  {
   "cell_type": "code",
   "execution_count": null,
   "id": "c6cb3208-6e18-4875-9735-94e0cba0a3f3",
   "metadata": {},
   "outputs": [],
   "source": [
    "# Predict labels for each text in the dataset\n",
    "def predict_labels(tokens):\n",
    "    # Decode tokens to reconstruct the original text\n",
    "    text = tokenizer.decode(tokenizer.convert_tokens_to_ids(tokens), skip_special_tokens=True)\n",
    "    \n",
    "    # Get model predictions using the NER pipeline\n",
    "    predictions = ner_pipeline(text)\n",
    "    \n",
    "    # Initialize the predicted labels with \"O\"\n",
    "    predicted_labels = [\"O\"] * len(tokens)\n",
    "    \n",
    "    for pred in predictions:\n",
    "        pred_text = pred['word']\n",
    "        pred_start, pred_end = pred['start'], pred['end']\n",
    "\n",
    "        # Use 'entity_group' instead of 'entity'\n",
    "        entity_label = pred['entity_group']\n",
    "        \n",
    "        # Encode the predicted text to match token positions\n",
    "        encoded_pred = tokenizer.encode(pred_text, add_special_tokens=False)\n",
    "        \n",
    "        # Match the predicted span with tokens\n",
    "        for i, token_id in enumerate(tokenizer.convert_tokens_to_ids(tokens)):\n",
    "            token_start = text.find(tokenizer.decode([token_id], skip_special_tokens=True), pred_start)\n",
    "            token_end = token_start + len(tokenizer.decode([token_id], skip_special_tokens=True))\n",
    "            \n",
    "            if token_start == pred_start and token_end == pred_end:\n",
    "                predicted_labels[i] = entity_label #pred['entity']\n",
    "    \n",
    "    return predicted_labels\n",
    "\n",
    "# Apply predictions to each row\n",
    "df['predicted_labels'] = df['tokens'].apply(predict_labels)"
   ]
  },
  {
   "cell_type": "code",
   "execution_count": 55,
   "id": "632a7911-ec5c-4949-b7c9-d5be72a544e8",
   "metadata": {},
   "outputs": [],
   "source": [
    "# Apply the label mapping to the gold labels\n",
    "df['mapped_labels'] = df['labels'].apply(lambda x: map_labels(x, label_mapping))"
   ]
  },
  {
   "cell_type": "code",
   "execution_count": 56,
   "id": "dcb70310-0804-4734-9d89-a69c3a271b13",
   "metadata": {},
   "outputs": [
    {
     "name": "stdout",
     "output_type": "stream",
     "text": [
      "              precision    recall  f1-score   support\n",
      "\n",
      "       B-LOC       0.00      0.00      0.00       185\n",
      "      B-MISC       0.00      0.00      0.00       527\n",
      "       B-ORG       0.00      0.00      0.00       735\n",
      "       B-PER       0.00      0.00      0.00        85\n",
      "         CVE       0.00      0.00      0.00         0\n",
      "       Event       0.00      0.00      0.00         0\n",
      "       I-LOC       0.00      0.00      0.00       183\n",
      "      I-MISC       0.00      0.00      0.00      2139\n",
      "       I-ORG       0.00      0.00      0.00      1903\n",
      "       I-PER       0.00      0.00      0.00       265\n",
      "         LOC       0.00      0.00      0.00         0\n",
      "     MAL-ORG       0.00      0.00      0.00         0\n",
      "        MISC       0.00      0.00      0.00         0\n",
      "           O       0.82      0.99      0.90     24857\n",
      "         ORG       0.00      0.00      0.00         0\n",
      "         PER       0.00      0.00      0.00         0\n",
      "    Software       0.00      0.00      0.00         0\n",
      "\n",
      "    accuracy                           0.79     30879\n",
      "   macro avg       0.05      0.06      0.05     30879\n",
      "weighted avg       0.66      0.79      0.72     30879\n",
      "\n"
     ]
    },
    {
     "name": "stderr",
     "output_type": "stream",
     "text": [
      "c:\\Users\\magnu\\AppData\\Local\\Programs\\Python\\Python312\\Lib\\site-packages\\sklearn\\metrics\\_classification.py:1565: UndefinedMetricWarning: Precision is ill-defined and being set to 0.0 in labels with no predicted samples. Use `zero_division` parameter to control this behavior.\n",
      "  _warn_prf(average, modifier, f\"{metric.capitalize()} is\", len(result))\n",
      "c:\\Users\\magnu\\AppData\\Local\\Programs\\Python\\Python312\\Lib\\site-packages\\sklearn\\metrics\\_classification.py:1565: UndefinedMetricWarning: Recall is ill-defined and being set to 0.0 in labels with no true samples. Use `zero_division` parameter to control this behavior.\n",
      "  _warn_prf(average, modifier, f\"{metric.capitalize()} is\", len(result))\n",
      "c:\\Users\\magnu\\AppData\\Local\\Programs\\Python\\Python312\\Lib\\site-packages\\sklearn\\metrics\\_classification.py:1565: UndefinedMetricWarning: Precision is ill-defined and being set to 0.0 in labels with no predicted samples. Use `zero_division` parameter to control this behavior.\n",
      "  _warn_prf(average, modifier, f\"{metric.capitalize()} is\", len(result))\n",
      "c:\\Users\\magnu\\AppData\\Local\\Programs\\Python\\Python312\\Lib\\site-packages\\sklearn\\metrics\\_classification.py:1565: UndefinedMetricWarning: Recall is ill-defined and being set to 0.0 in labels with no true samples. Use `zero_division` parameter to control this behavior.\n",
      "  _warn_prf(average, modifier, f\"{metric.capitalize()} is\", len(result))\n",
      "c:\\Users\\magnu\\AppData\\Local\\Programs\\Python\\Python312\\Lib\\site-packages\\sklearn\\metrics\\_classification.py:1565: UndefinedMetricWarning: Precision is ill-defined and being set to 0.0 in labels with no predicted samples. Use `zero_division` parameter to control this behavior.\n",
      "  _warn_prf(average, modifier, f\"{metric.capitalize()} is\", len(result))\n",
      "c:\\Users\\magnu\\AppData\\Local\\Programs\\Python\\Python312\\Lib\\site-packages\\sklearn\\metrics\\_classification.py:1565: UndefinedMetricWarning: Recall is ill-defined and being set to 0.0 in labels with no true samples. Use `zero_division` parameter to control this behavior.\n",
      "  _warn_prf(average, modifier, f\"{metric.capitalize()} is\", len(result))\n"
     ]
    }
   ],
   "source": [
    "# Flatten gold labels and predictions for evaluation\n",
    "all_gold = [label for labels in df['mapped_labels'] for label in labels]\n",
    "all_pred = [pred for preds in df['predicted_labels'] for pred in preds]\n",
    "\n",
    "# Generate a classification report\n",
    "print(classification_report(all_gold, all_pred))"
   ]
  },
  {
   "cell_type": "code",
   "execution_count": 57,
   "id": "0bbdbf69-727c-44c2-b6f9-af71e04cbb48",
   "metadata": {},
   "outputs": [
    {
     "name": "stdout",
     "output_type": "stream",
     "text": [
      "Example 1:\n",
      "----------------------------------------\n",
      "Tokens:             [CLS]\t\tA\t\tnew\t\transom\t\t##ware\t\t-\t\tas\t\t-\t\ta\t\t-\t\tservice\t\t(\t\tRa\t\t##a\t\t##S\t\t)\t\toperation\t\tnamed\t\tC\t\t##ica\t\t##da\t\t##33\t\t##01\t\thas\t\talready\t\tlisted\t\t19\t\tvictims\t\ton\t\tits\t\tex\t\t##tor\t\t##tion\t\tportal\t\t,\t\tas\t\tit\t\tquickly\t\tattacked\t\tcompanies\t\tworldwide\t\t.\t\tThe\t\tnew\t\tc\t\t##y\t\t##ber\t\t##c\t\t##rim\t\t##e\t\toperation\t\tis\t\tnamed\t\tafter\t\tthe\t\tmysterious\t\t2012\t\t-\t\t2014\t\tonline\t\t/\t\treal\t\t-\t\tworld\t\tgame\t\tthat\t\tinvolved\t\telaborate\t\tcry\t\t##pt\t\t##ographic\t\tpuzzles\t\tand\t\tused\t\tthe\t\tsame\t\tlogo\t\tfor\t\tpromotion\t\ton\t\tc\t\t##y\t\t##ber\t\t##c\t\t##rim\t\t##e\t\tforums\t\t.\t\tHowever\t\t,\t\tthere\t\t'\t\ts\t\tno\t\tconnection\t\tbetween\t\tthe\t\ttwo\t\t,\t\tand\t\tthe\t\tlegitimate\t\tproject\t\thas\t\tissued\t\ta\t\tstatement\t\tto\t\tre\t\t##nounce\t\tany\t\tassociation\t\tand\t\tcon\t\t##de\t\t##m\t\t##n\t\tthe\t\transom\t\t##ware\t\toperators\t\t'\t\tactions\t\t.\t\tThe\t\tC\t\t##ica\t\t##da\t\t##33\t\t##01\t\tRa\t\t##a\t\t##S\t\tfirst\t\tbegan\t\tpromoting\t\tthe\t\toperation\t\tand\t\trecruiting\t\taffiliates\t\ton\t\tJune\t\t29\t\t,\t\t202\t\t##4\t\t,\t\tin\t\ta\t\tforum\t\tpost\t\tto\t\tthe\t\transom\t\t##ware\t\tand\t\tc\t\t##y\t\t##ber\t\t##c\t\t##rim\t\t##e\t\tforum\t\tknown\t\tas\t\tRAM\t\t##P\t\t.\t\tHowever\t\t,\t\tB\t\t##lee\t\t##ping\t\t##C\t\t##om\t\t##pute\t\t##r\t\tis\t\taware\t\tof\t\tC\t\t##ica\t\t##da\t\tattacks\t\tas\t\tearly\t\tas\t\tJune\t\t6\t\t,\t\tindicating\t\tthat\t\tthe\t\tgang\t\twas\t\toperating\t\tindependently\t\tbefore\t\tattempting\t\tto\t\trecruit\t\taffiliates\t\t.\t\tLike\t\tother\t\transom\t\t##ware\t\toperations\t\t,\t\tC\t\t##ica\t\t##da\t\t##33\t\t##01\t\tconducts\t\tdouble\t\t-\t\tex\t\t##tor\t\t##tion\t\ttactics\t\twhere\t\tthey\t\tbreach\t\tcorporate\t\tnetworks\t\t,\t\tsteal\t\tdata\t\t,\t\tand\t\tthen\t\ten\t\t##c\t\t##ry\t\t##pt\t\tdevices\t\t.\t\tThe\t\tencryption\t\tkey\t\tand\t\tthreats\t\tto\t\tleak\t\tstolen\t\tdata\t\tare\t\tthen\t\tused\t\tas\t\tleverage\t\tto\t\tscare\t\tvictims\t\tinto\t\tpaying\t\ta\t\transom\t\t.\t\tThe\t\tthreat\t\tactors\t\toperate\t\ta\t\tdata\t\tleak\t\tsite\t\tthat\t\tis\t\tused\t\tas\t\tpart\t\tof\t\ttheir\t\tdouble\t\t-\t\tex\t\t##tor\t\t##tion\t\tscheme\t\t.\t\tAn\t\tanalysis\t\tof\t\tthe\t\tnew\t\tma\t\t##l\t\t##ware\t\tby\t\tTrue\t\t##se\t\t##c\t\trevealed\t\tsignificant\t\toverlap\t\t##s\t\tbetween\t\tC\t\t##ica\t\t##da\t\t##33\t\t##01\t\tand\t\tAL\t\t##P\t\t##H\t\t##V\t\t/\t\tBlack\t\t##C\t\t##at\t\t,\t\tindicating\t\ta\t\tpossible\t\tre\t\t##brand\t\tor\t\ta\t\tfork\t\tcreated\t\tby\t\tformer\t\tAL\t\t##P\t\t##H\t\t##V\t\t'\t\ts\t\tcore\t\tteam\t\tmembers\t\t.\t\tThis\t\tis\t\tbased\t\ton\t\tthe\t\tfact\t\tthat\t\t:\t\tFor\t\tcontext\t\t,\t\tAL\t\t##P\t\t##H\t\t##V\t\tperformed\t\tan\t\texit\t\ts\t\t##cam\t\tin\t\tearly\t\tMarch\t\t202\t\t##4\t\tinvolving\t\tfake\t\tclaims\t\tabout\t\tan\t\tFBI\t\ttake\t\t##down\t\toperation\t\tafter\t\tthey\t\tstole\t\ta\t\tmassive\t\t$\t\t22\t\tmillion\t\tpayment\t\tfrom\t\tChange\t\tHealthcare\t\tfrom\t\tone\t\tof\t\ttheir\t\taffiliates\t\t.\t\tTrue\t\t##se\t\t##c\t\thas\t\talso\t\tfound\t\tindication\t\t##s\t\tthat\t\tthe\t\tC\t\t##ica\t\t##da\t\t##33\t\t##01\t\transom\t\t##ware\t\toperation\t\tmay\t\tpartner\t\twith\t\tor\t\tutilize\t\tthe\t\tB\t\t##ru\t\t##tus\t\tb\t\t##ot\t\t##net\t\tfor\t\tinitial\t\taccess\t\tto\t\tcorporate\t\tnetworks\t\t.\t\tThat\t\tb\t\t##ot\t\t##net\t\twas\t\tpreviously\t\tassociated\t\twith\t\tglobal\t\t-\t\tscale\t\tVP\t\t##N\t\tbr\t\t##ute\t\t-\t\tforcing\t\tactivities\t\ttargeting\t\tC\t\t##isco\t\t,\t\tFort\t\t##inet\t\t,\t\tPa\t\t##lo\t\tAlto\t\t,\t\tand\t\tSonic\t\t##W\t\t##all\t\tappliances\t\t.\t\tIt\t\t'\t\ts\t\tworth\t\tnoting\t\tthat\t\tthe\t\tB\t\t##ru\t\t##tus\t\tactivity\t\twas\t\tfirst\t\tspotted\t\ttwo\t\tweeks\t\tafter\t\tAL\t\t##P\t\t##H\t\t##V\t\tshut\t\tdown\t\toperations\t\t,\t\tso\t\tthe\t\tlink\t\tbetween\t\tthe\t\ttwo\t\tgroups\t\tstill\t\tstands\t\tin\t\tterms\t\tof\t\ttimeline\t\t##s\t\t.\t\tC\t\t##ica\t\t##da\t\t##33\t\t##01\t\tis\t\ta\t\tR\t\t##ust\t\t-\t\tbased\t\t[SEP]\n",
      "Gold Labels:        O\t\tO\t\tO\t\tO\t\tO\t\tO\t\tO\t\tO\t\tO\t\tO\t\tO\t\tO\t\tO\t\tO\t\tO\t\tO\t\tO\t\tO\t\tB-ORG\t\tI-ORG\t\tI-ORG\t\tI-ORG\t\tI-ORG\t\tO\t\tO\t\tO\t\tO\t\tO\t\tO\t\tO\t\tO\t\tO\t\tO\t\tO\t\tO\t\tO\t\tO\t\tO\t\tO\t\tO\t\tO\t\tO\t\tO\t\tO\t\tO\t\tO\t\tO\t\tO\t\tO\t\tO\t\tO\t\tO\t\tO\t\tO\t\tO\t\tO\t\tO\t\tO\t\tO\t\tO\t\tO\t\tO\t\tO\t\tO\t\tO\t\tO\t\tO\t\tO\t\tO\t\tO\t\tO\t\tO\t\tO\t\tO\t\tO\t\tO\t\tO\t\tO\t\tO\t\tO\t\tO\t\tO\t\tO\t\tO\t\tO\t\tO\t\tO\t\tO\t\tO\t\tO\t\tO\t\tO\t\tO\t\tO\t\tO\t\tO\t\tO\t\tO\t\tO\t\tO\t\tO\t\tO\t\tO\t\tO\t\tO\t\tO\t\tO\t\tO\t\tO\t\tO\t\tO\t\tO\t\tO\t\tO\t\tO\t\tO\t\tO\t\tO\t\tO\t\tO\t\tO\t\tO\t\tO\t\tO\t\tO\t\tB-ORG\t\tI-ORG\t\tI-ORG\t\tI-ORG\t\tI-ORG\t\tO\t\tO\t\tO\t\tO\t\tO\t\tO\t\tO\t\tO\t\tO\t\tO\t\tO\t\tO\t\tO\t\tO\t\tO\t\tO\t\tO\t\tO\t\tO\t\tO\t\tO\t\tO\t\tO\t\tO\t\tO\t\tO\t\tO\t\tO\t\tO\t\tO\t\tO\t\tO\t\tO\t\tO\t\tO\t\tO\t\tO\t\tO\t\tO\t\tO\t\tO\t\tB-ORG\t\tI-ORG\t\tI-ORG\t\tI-ORG\t\tI-ORG\t\tI-ORG\t\tI-ORG\t\tO\t\tO\t\tO\t\tB-ORG\t\tI-ORG\t\tI-ORG\t\tO\t\tO\t\tO\t\tO\t\tO\t\tO\t\tO\t\tO\t\tO\t\tO\t\tO\t\tO\t\tO\t\tO\t\tO\t\tO\t\tO\t\tO\t\tO\t\tO\t\tO\t\tO\t\tO\t\tO\t\tO\t\tO\t\tB-ORG\t\tI-ORG\t\tI-ORG\t\tI-ORG\t\tI-ORG\t\tB-MISC\t\tI-MISC\t\tI-MISC\t\tI-MISC\t\tI-MISC\t\tI-MISC\t\tI-MISC\t\tI-MISC\t\tI-MISC\t\tI-MISC\t\tI-MISC\t\tI-MISC\t\tI-MISC\t\tI-MISC\t\tI-MISC\t\tI-MISC\t\tI-MISC\t\tI-MISC\t\tI-MISC\t\tI-MISC\t\tI-MISC\t\tI-MISC\t\tI-MISC\t\tO\t\tO\t\tO\t\tO\t\tO\t\tO\t\tO\t\tO\t\tO\t\tO\t\tO\t\tO\t\tO\t\tO\t\tO\t\tO\t\tO\t\tO\t\tO\t\tO\t\tO\t\tO\t\tO\t\tO\t\tO\t\tO\t\tO\t\tO\t\tO\t\tO\t\tO\t\tO\t\tO\t\tO\t\tO\t\tO\t\tO\t\tO\t\tO\t\tO\t\tO\t\tO\t\tO\t\tO\t\tO\t\tO\t\tO\t\tO\t\tO\t\tO\t\tO\t\tO\t\tO\t\tO\t\tB-ORG\t\tI-ORG\t\tI-ORG\t\tO\t\tO\t\tO\t\tO\t\tO\t\tB-ORG\t\tI-ORG\t\tI-ORG\t\tI-ORG\t\tI-ORG\t\tO\t\tB-ORG\t\tI-ORG\t\tI-ORG\t\tI-ORG\t\tO\t\tB-ORG\t\tI-ORG\t\tI-ORG\t\tO\t\tO\t\tO\t\tO\t\tO\t\tO\t\tO\t\tO\t\tO\t\tO\t\tO\t\tO\t\tB-ORG\t\tI-ORG\t\tI-ORG\t\tI-ORG\t\tI-ORG\t\tI-ORG\t\tO\t\tO\t\tO\t\tO\t\tO\t\tO\t\tO\t\tO\t\tO\t\tO\t\tO\t\tO\t\tO\t\tO\t\tO\t\tB-ORG\t\tI-ORG\t\tI-ORG\t\tI-ORG\t\tO\t\tO\t\tO\t\tO\t\tO\t\tO\t\tO\t\tO\t\tO\t\tO\t\tO\t\tO\t\tO\t\tO\t\tO\t\tB-ORG\t\tO\t\tO\t\tO\t\tO\t\tO\t\tO\t\tO\t\tO\t\tO\t\tO\t\tO\t\tO\t\tO\t\tB-ORG\t\tI-ORG\t\tO\t\tO\t\tO\t\tO\t\tO\t\tO\t\tB-ORG\t\tI-ORG\t\tI-ORG\t\tO\t\tO\t\tO\t\tO\t\tO\t\tO\t\tO\t\tB-ORG\t\tI-ORG\t\tI-ORG\t\tI-ORG\t\tI-ORG\t\tO\t\tO\t\tO\t\tO\t\tO\t\tO\t\tO\t\tO\t\tO\t\tB-MISC\t\tI-MISC\t\tI-MISC\t\tI-MISC\t\tI-MISC\t\tI-MISC\t\tO\t\tO\t\tO\t\tO\t\tO\t\tO\t\tO\t\tO\t\tO\t\tO\t\tO\t\tO\t\tO\t\tO\t\tO\t\tO\t\tO\t\tO\t\tO\t\tO\t\tO\t\tO\t\tO\t\tO\t\tO\t\tO\t\tB-ORG\t\tI-ORG\t\tO\t\tB-ORG\t\tI-ORG\t\tO\t\tB-ORG\t\tI-ORG\t\tI-ORG\t\tO\t\tO\t\tB-ORG\t\tI-ORG\t\tI-ORG\t\tO\t\tO\t\tO\t\tO\t\tO\t\tO\t\tO\t\tO\t\tO\t\tB-ORG\t\tI-ORG\t\tI-ORG\t\tO\t\tO\t\tO\t\tO\t\tO\t\tO\t\tO\t\tB-ORG\t\tI-ORG\t\tI-ORG\t\tI-ORG\t\tO\t\tO\t\tO\t\tO\t\tO\t\tO\t\tO\t\tO\t\tO\t\tO\t\tO\t\tO\t\tO\t\tO\t\tO\t\tO\t\tO\t\tO\t\tO\t\tB-ORG\t\tI-ORG\t\tI-ORG\t\tI-ORG\t\tI-ORG\t\tO\t\tO\t\tO\t\tO\t\tO\t\tO\t\tO\n",
      "Predicted Labels:   O\t\tO\t\tO\t\tO\t\tO\t\tO\t\tO\t\tO\t\tO\t\tO\t\tO\t\tO\t\tO\t\tO\t\tO\t\tO\t\tO\t\tO\t\tO\t\tO\t\tO\t\tO\t\tO\t\tO\t\tO\t\tO\t\tO\t\tO\t\tO\t\tO\t\tO\t\tO\t\tO\t\tO\t\tO\t\tO\t\tO\t\tO\t\tO\t\tO\t\tO\t\tO\t\tO\t\tO\t\tO\t\tO\t\tO\t\tO\t\tO\t\tO\t\tO\t\tO\t\tO\t\tO\t\tO\t\tO\t\tO\t\tO\t\tO\t\tO\t\tO\t\tO\t\tO\t\tO\t\tO\t\tO\t\tO\t\tO\t\tO\t\tO\t\tO\t\tO\t\tO\t\tO\t\tO\t\tO\t\tO\t\tO\t\tO\t\tO\t\tO\t\tO\t\tO\t\tO\t\tO\t\tO\t\tO\t\tO\t\tO\t\tO\t\tO\t\tO\t\tSoftware\t\tO\t\tO\t\tO\t\tO\t\tO\t\tO\t\tO\t\tO\t\tO\t\tO\t\tO\t\tO\t\tO\t\tO\t\tO\t\tO\t\tO\t\tO\t\tO\t\tO\t\tO\t\tO\t\tO\t\tO\t\tO\t\tO\t\tO\t\tO\t\tO\t\tO\t\tO\t\tO\t\tO\t\tO\t\tO\t\tO\t\tO\t\tO\t\tO\t\tO\t\tO\t\tO\t\tO\t\tO\t\tO\t\tO\t\tO\t\tO\t\tO\t\tO\t\tO\t\tO\t\tO\t\tO\t\tO\t\tO\t\tO\t\tO\t\tO\t\tO\t\tO\t\tO\t\tO\t\tO\t\tO\t\tO\t\tO\t\tO\t\tO\t\tO\t\tO\t\tO\t\tO\t\tO\t\tO\t\tO\t\tO\t\tO\t\tO\t\tO\t\tO\t\tO\t\tO\t\tO\t\tO\t\tO\t\tO\t\tO\t\tO\t\tO\t\tO\t\tO\t\tO\t\tO\t\tO\t\tO\t\tO\t\tO\t\tO\t\tO\t\tO\t\tO\t\tO\t\tO\t\tO\t\tO\t\tO\t\tO\t\tO\t\tO\t\tO\t\tO\t\tO\t\tO\t\tO\t\tO\t\tO\t\tO\t\tO\t\tO\t\tO\t\tO\t\tO\t\tO\t\tO\t\tO\t\tO\t\tO\t\tO\t\tO\t\tO\t\tO\t\tO\t\tO\t\tO\t\tO\t\tO\t\tO\t\tO\t\tO\t\tO\t\tO\t\tO\t\tO\t\tO\t\tO\t\tO\t\tO\t\tO\t\tO\t\tO\t\tO\t\tO\t\tO\t\tO\t\tO\t\tO\t\tO\t\tO\t\tO\t\tO\t\tO\t\tO\t\tO\t\tO\t\tO\t\tO\t\tO\t\tO\t\tO\t\tO\t\tO\t\tO\t\tO\t\tO\t\tO\t\tO\t\tO\t\tO\t\tO\t\tO\t\tO\t\tO\t\tO\t\tO\t\tO\t\tO\t\tO\t\tO\t\tO\t\tO\t\tO\t\tO\t\tO\t\tO\t\tO\t\tO\t\tO\t\tO\t\tO\t\tO\t\tO\t\tO\t\tO\t\tO\t\tO\t\tO\t\tO\t\tO\t\tO\t\tO\t\tO\t\tO\t\tO\t\tO\t\tO\t\tO\t\tO\t\tO\t\tO\t\tO\t\tO\t\tO\t\tO\t\tO\t\tO\t\tO\t\tO\t\tO\t\tO\t\tO\t\tO\t\tO\t\tO\t\tO\t\tO\t\tO\t\tO\t\tSoftware\t\tO\t\tO\t\tO\t\tO\t\tO\t\tO\t\tO\t\tO\t\tO\t\tO\t\tO\t\tO\t\tO\t\tO\t\tO\t\tO\t\tO\t\tO\t\tO\t\tO\t\tO\t\tO\t\tSoftware\t\tO\t\tO\t\tO\t\tO\t\tO\t\tO\t\tO\t\tO\t\tO\t\tO\t\tO\t\tORG\t\tO\t\tO\t\tO\t\tO\t\tO\t\tO\t\tO\t\tO\t\tO\t\tO\t\tO\t\tO\t\tO\t\tO\t\tO\t\tO\t\tO\t\tO\t\tO\t\tO\t\tO\t\tO\t\tO\t\tO\t\tO\t\tO\t\tO\t\tO\t\tO\t\tO\t\tO\t\tO\t\tO\t\tO\t\tO\t\tO\t\tO\t\tO\t\tO\t\tO\t\tO\t\tO\t\tO\t\tO\t\tO\t\tO\t\tO\t\tO\t\tO\t\tO\t\tO\t\tO\t\tO\t\tO\t\tO\t\tO\t\tO\t\tO\t\tO\t\tO\t\tO\t\tO\t\tO\t\tO\t\tO\t\tO\t\tO\t\tO\t\tO\t\tO\t\tO\t\tO\t\tO\t\tO\t\tO\t\tO\t\tO\t\tO\t\tO\t\tO\t\tO\t\tO\t\tO\t\tO\t\tO\t\tO\t\tO\t\tO\t\tO\t\tO\t\tO\t\tO\t\tO\t\tO\t\tO\t\tSoftware\t\tO\t\tO\t\tO\t\tO\t\tO\t\tO\t\tO\t\tO\t\tO\t\tO\t\tO\t\tO\t\tO\t\tO\t\tO\t\tO\t\tO\t\tO\t\tO\t\tO\t\tO\t\tO\t\tO\t\tO\t\tO\t\tO\t\tO\t\tO\t\tO\t\tO\t\tO\t\tO\t\tO\t\tO\t\tO\t\tO\t\tO\t\tO\t\tO\t\tO\t\tO\t\tO\t\tO\t\tO\t\tO\t\tO\t\tO\t\tO\t\tO\n",
      "\n",
      "\n",
      "Example 2:\n",
      "----------------------------------------\n",
      "Tokens:             [CLS]\t\tThe\t\tpopular\t\tDock\t\t##er\t\t-\t\tOS\t\t##X\t\tproject\t\thas\t\tbeen\t\tremoved\t\tfrom\t\tDock\t\t##er\t\tHu\t\t##b\t\tafter\t\tApple\t\tfiled\t\ta\t\tD\t\t##MCA\t\t(\t\tDigital\t\tMillennium\t\tCopyright\t\tAct\t\t)\t\ttake\t\t##down\t\trequest\t\t,\t\talleging\t\tthat\t\tit\t\tviolated\t\tits\t\tcopyright\t\t.\t\tDock\t\t##er\t\t-\t\tOS\t\t##X\t\tis\t\tan\t\topen\t\t-\t\tsource\t\tproject\t\tcreated\t\tby\t\tsecurity\t\tresearcher\t\tSick\t\t.\t\tCode\t\t##s\t\tthat\t\tallows\t\tfor\t\tthe\t\tvirtual\t\t##ization\t\tof\t\tmac\t\t##OS\t\ton\t\tnon\t\t-\t\tApple\t\thardware\t\t.\t\tIt\t\tcan\t\tbe\t\thosted\t\ton\t\tany\t\tsystem\t\tthat\t\tsupports\t\tDock\t\t##er\t\t,\t\tincluding\t\tLinux\t\tand\t\tWindows\t\t.\t\tThe\t\tproject\t\tis\t\tuseful\t\tfor\t\tdevelopers\t\twho\t\tneed\t\tto\t\ttest\t\tsoftware\t\ton\t\tmac\t\t##OS\t\tor\t\tsecurity\t\tresearchers\t\ttrying\t\tout\t\tvarious\t\tconfigurations\t\tto\t\tun\t\t##cover\t\tbugs\t\tor\t\tto\t\tresearch\t\tma\t\t##l\t\t##ware\t\t.\t\tIts\t\tpopularity\t\tis\t\treflected\t\tin\t\tits\t\t750\t\t,\t\t000\t\tdownloads\t\tand\t\t500\t\tstars\t\ton\t\tDock\t\t##er\t\tHu\t\t##b\t\t,\t\tas\t\twell\t\tas\t\tits\t\t40\t\t,\t\t000\t\tstars\t\ton\t\tG\t\t##it\t\t##H\t\t##ub\t\t.\t\tOn\t\tWednesday\t\t,\t\tDock\t\t##er\t\t-\t\tOS\t\t##X\t\tusers\t\treported\t\tthat\t\tthey\t\twere\t\tunable\t\tto\t\tpull\t\tthe\t\tlatest\t\tmac\t\t##OS\t\timages\t\tfrom\t\tthe\t\tDock\t\t##er\t\tHu\t\t##b\t\tre\t\t##pository\t\t,\t\tgetting\t\t404\t\terrors\t\t.\t\t\"\t\tdock\t\t##er\t\t:\t\tE\t\t##rro\t\t##r\t\tresponse\t\tfrom\t\tda\t\t##emon\t\t:\t\tpull\t\taccess\t\tdenied\t\tfor\t\tsick\t\t##codes\t\t/\t\tdock\t\t##er\t\t-\t\to\t\t##s\t\t##x\t\t,\t\tre\t\t##pository\t\tdoes\t\tnot\t\texist\t\tor\t\tmay\t\trequire\t\t'\t\tdock\t\t##er\t\tlog\t\t##in\t\t'\t\t:\t\tdenied\t\t:\t\trequested\t\taccess\t\tto\t\tthe\t\tresource\t\tis\t\tdenied\t\t,\t\t\"\t\tread\t\tan\t\terror\t\tmessage\t\twhen\t\ta\t\tuser\t\ttried\t\tto\t\tinstall\t\tthe\t\timage\t\t.\t\tAfter\t\tother\t\tusers\t\treported\t\ta\t\tsimilar\t\tissue\t\taccess\t\t##ing\t\tthe\t\tDock\t\t##er\t\timage\t\t,\t\tthe\t\tdeveloper\t\t,\t\tSick\t\t.\t\tCode\t\t##s\t\t,\t\treplied\t\tthat\t\tit\t\twas\t\tgone\t\tfrom\t\ttheir\t\taccount\t\tand\t\thave\t\treceived\t\tno\t\tinformation\t\tas\t\tto\t\twhy\t\t.\t\tAfter\t\tposting\t\tabout\t\tthe\t\tremoval\t\ton\t\tX\t\t,\t\tDock\t\t##er\t\tconfirmed\t\tit\t\twith\t\tSick\t\t.\t\tCode\t\t##s\t\tthat\t\tthe\t\timage\t\twas\t\tremoved\t\tafter\t\tthey\t\treceived\t\ta\t\tD\t\t##MCA\t\ttake\t\t##down\t\trequest\t\tfrom\t\tApple\t\t.\t\tIn\t\tthe\t\tD\t\t##MCA\t\trequest\t\tsent\t\tto\t\tSick\t\t.\t\tCode\t\t##s\t\tand\t\tshared\t\twith\t\tB\t\t##lee\t\t##ping\t\t##C\t\t##om\t\t##pute\t\t##r\t\t,\t\ta\t\tlaw\t\tfirm\t\trepresenting\t\tApple\t\tasserted\t\tthat\t\tthe\t\t\"\t\tdock\t\t##er\t\t-\t\to\t\t##s\t\t##x\t\t\"\t\tre\t\t##pository\t\tcontains\t\timages\t\tof\t\tApple\t\t'\t\ts\t\tmac\t\t##OS\t\tinstall\t\t##er\t\t,\t\twhich\t\tare\t\tprotected\t\tby\t\tcopyright\t\t.\t\tThe\t\tnotice\t\ts\t\t##pec\t\t##ifies\t\tthat\t\tDock\t\t##er\t\t-\t\tOS\t\t##X\t\treproduce\t\t##s\t\tApple\t\t'\t\ts\t\tcontent\t\twithout\t\tauthorization\t\t,\t\twhich\t\tconstitutes\t\tcopyright\t\tinfringement\t\tunder\t\tU\t\t.\t\tS\t\t.\t\tlaw\t\t,\t\tand\t\trequests\t\tthat\t\tDock\t\t##er\t\tact\t\t\"\t\tex\t\t##ped\t\t##iti\t\t##ously\t\t\"\t\tto\t\ttake\t\tdown\t\tthe\t\tre\t\t##pository\t\t.\t\t\"\t\tIt\t\thas\t\tcome\t\tto\t\tour\t\tattention\t\tthat\t\timages\t\tof\t\tApple\t\t'\t\ts\t\tmac\t\t##OS\t\tinstall\t\t##er\t\tand\t\tinstallation\t\thave\t\tbeen\t\tposted\t\tat\t\thttps\t\t:\t\t/\t\t/\t\thub\t\t.\t\tdock\t\t##er\t\t.\t\tcom\t\t/\t\tr\t\t/\t\tsick\t\t##codes\t\t/\t\tdock\t\t##er\t\t-\t\to\t\t##s\t\t##x\t\t,\t\t\"\t\treads\t\tthe\t\tD\t\t##MCA\t\tinfringement\t\tnot\t\t##ification\t\tsent\t\tby\t\tApple\t\t'\t\ts\t\tlawyers\t\tat\t\tKi\t\t##l\t\t##patrick\t\t,\t\tTownsend\t\tand\t\tStockton\t\tLL\t\t##P\t\t.\t\t\"\t\tApple\t\thas\t\texclusive\t\trights\t\t[SEP]\n",
      "Gold Labels:        O\t\tO\t\tO\t\tB-MISC\t\tI-MISC\t\tI-MISC\t\tI-MISC\t\tI-MISC\t\tO\t\tO\t\tO\t\tO\t\tO\t\tB-ORG\t\tI-ORG\t\tI-ORG\t\tI-ORG\t\tO\t\tB-ORG\t\tO\t\tO\t\tB-MISC\t\tI-MISC\t\tI-MISC\t\tI-MISC\t\tI-MISC\t\tI-MISC\t\tI-MISC\t\tO\t\tO\t\tO\t\tO\t\tO\t\tO\t\tO\t\tO\t\tO\t\tO\t\tO\t\tO\t\tB-MISC\t\tI-MISC\t\tI-MISC\t\tI-MISC\t\tI-MISC\t\tO\t\tO\t\tO\t\tO\t\tO\t\tO\t\tO\t\tO\t\tO\t\tO\t\tB-ORG\t\tI-ORG\t\tI-ORG\t\tI-ORG\t\tO\t\tO\t\tO\t\tO\t\tO\t\tO\t\tO\t\tB-MISC\t\tI-MISC\t\tO\t\tO\t\tO\t\tB-ORG\t\tO\t\tO\t\tO\t\tO\t\tO\t\tO\t\tO\t\tO\t\tO\t\tO\t\tO\t\tB-MISC\t\tI-MISC\t\tO\t\tO\t\tB-MISC\t\tI-MISC\t\tI-MISC\t\tO\t\tO\t\tO\t\tO\t\tO\t\tO\t\tO\t\tO\t\tO\t\tO\t\tO\t\tO\t\tO\t\tB-MISC\t\tI-MISC\t\tO\t\tO\t\tO\t\tO\t\tO\t\tO\t\tO\t\tO\t\tO\t\tO\t\tO\t\tO\t\tO\t\tO\t\tO\t\tO\t\tO\t\tO\t\tO\t\tO\t\tO\t\tO\t\tO\t\tO\t\tO\t\tO\t\tO\t\tO\t\tO\t\tO\t\tO\t\tO\t\tB-ORG\t\tI-ORG\t\tI-ORG\t\tI-ORG\t\tO\t\tO\t\tO\t\tO\t\tO\t\tO\t\tO\t\tO\t\tO\t\tO\t\tB-ORG\t\tI-ORG\t\tI-ORG\t\tI-ORG\t\tO\t\tO\t\tO\t\tO\t\tB-MISC\t\tI-MISC\t\tI-MISC\t\tI-MISC\t\tI-MISC\t\tO\t\tO\t\tO\t\tO\t\tO\t\tO\t\tO\t\tO\t\tO\t\tO\t\tB-MISC\t\tI-MISC\t\tO\t\tO\t\tO\t\tB-ORG\t\tI-ORG\t\tI-ORG\t\tI-ORG\t\tO\t\tO\t\tO\t\tO\t\tO\t\tO\t\tO\t\tO\t\tO\t\tO\t\tO\t\tO\t\tO\t\tO\t\tO\t\tO\t\tO\t\tO\t\tO\t\tO\t\tO\t\tO\t\tO\t\tO\t\tO\t\tO\t\tO\t\tO\t\tO\t\tO\t\tO\t\tO\t\tO\t\tO\t\tO\t\tO\t\tO\t\tO\t\tO\t\tO\t\tO\t\tO\t\tO\t\tO\t\tO\t\tO\t\tO\t\tO\t\tO\t\tO\t\tO\t\tO\t\tO\t\tO\t\tO\t\tO\t\tO\t\tO\t\tO\t\tO\t\tO\t\tO\t\tO\t\tO\t\tO\t\tO\t\tO\t\tO\t\tO\t\tO\t\tO\t\tO\t\tO\t\tO\t\tO\t\tO\t\tO\t\tO\t\tO\t\tO\t\tO\t\tO\t\tB-ORG\t\tI-ORG\t\tO\t\tO\t\tO\t\tO\t\tO\t\tB-ORG\t\tI-ORG\t\tI-ORG\t\tI-ORG\t\tO\t\tO\t\tO\t\tO\t\tO\t\tO\t\tO\t\tO\t\tO\t\tO\t\tO\t\tO\t\tO\t\tO\t\tO\t\tO\t\tO\t\tO\t\tO\t\tO\t\tO\t\tO\t\tO\t\tO\t\tO\t\tO\t\tB-ORG\t\tI-ORG\t\tO\t\tO\t\tO\t\tB-ORG\t\tI-ORG\t\tI-ORG\t\tI-ORG\t\tO\t\tO\t\tO\t\tO\t\tO\t\tO\t\tO\t\tO\t\tO\t\tB-MISC\t\tI-MISC\t\tO\t\tO\t\tO\t\tO\t\tO\t\tO\t\tO\t\tO\t\tB-MISC\t\tI-MISC\t\tO\t\tO\t\tO\t\tB-ORG\t\tI-ORG\t\tI-ORG\t\tI-ORG\t\tO\t\tO\t\tO\t\tB-ORG\t\tI-ORG\t\tI-ORG\t\tI-ORG\t\tI-ORG\t\tI-ORG\t\tI-ORG\t\tO\t\tO\t\tO\t\tO\t\tO\t\tB-ORG\t\tO\t\tO\t\tO\t\tO\t\tO\t\tO\t\tO\t\tO\t\tO\t\tO\t\tO\t\tO\t\tO\t\tO\t\tO\t\tO\t\tB-ORG\t\tI-ORG\t\tI-ORG\t\tB-MISC\t\tI-MISC\t\tO\t\tO\t\tO\t\tO\t\tO\t\tO\t\tO\t\tO\t\tO\t\tO\t\tO\t\tO\t\tO\t\tO\t\tO\t\tB-MISC\t\tI-MISC\t\tI-MISC\t\tI-MISC\t\tI-MISC\t\tO\t\tO\t\tB-ORG\t\tI-ORG\t\tI-ORG\t\tO\t\tO\t\tO\t\tO\t\tO\t\tO\t\tO\t\tO\t\tO\t\tB-MISC\t\tI-MISC\t\tI-MISC\t\tI-MISC\t\tO\t\tO\t\tO\t\tO\t\tO\t\tB-ORG\t\tI-ORG\t\tO\t\tO\t\tO\t\tO\t\tO\t\tO\t\tO\t\tO\t\tO\t\tO\t\tO\t\tO\t\tO\t\tO\t\tO\t\tO\t\tO\t\tO\t\tO\t\tO\t\tO\t\tO\t\tO\t\tO\t\tB-ORG\t\tI-ORG\t\tI-ORG\t\tB-MISC\t\tI-MISC\t\tO\t\tO\t\tO\t\tO\t\tO\t\tO\t\tO\t\tO\t\tO\t\tO\t\tO\t\tO\t\tO\t\tO\t\tO\t\tO\t\tO\t\tO\t\tO\t\tO\t\tO\t\tO\t\tO\t\tO\t\tO\t\tO\t\tO\t\tO\t\tO\t\tO\t\tO\t\tO\t\tO\t\tO\t\tB-MISC\t\tI-MISC\t\tO\t\tO\t\tO\t\tO\t\tO\t\tB-ORG\t\tI-ORG\t\tI-ORG\t\tO\t\tO\t\tB-ORG\t\tI-ORG\t\tI-ORG\t\tI-ORG\t\tI-ORG\t\tI-ORG\t\tI-ORG\t\tI-ORG\t\tI-ORG\t\tO\t\tO\t\tB-ORG\t\tO\t\tO\t\tO\t\tO\n",
      "Predicted Labels:   O\t\tO\t\tO\t\tO\t\tO\t\tO\t\tO\t\tO\t\tO\t\tO\t\tO\t\tO\t\tO\t\tO\t\tO\t\tO\t\tO\t\tO\t\tORG\t\tO\t\tO\t\tO\t\tO\t\tO\t\tO\t\tO\t\tO\t\tO\t\tO\t\tO\t\tO\t\tO\t\tO\t\tO\t\tO\t\tO\t\tO\t\tO\t\tO\t\tORG\t\tO\t\tO\t\tO\t\tO\t\tO\t\tO\t\tO\t\tO\t\tO\t\tO\t\tO\t\tO\t\tO\t\tO\t\tO\t\tO\t\tORG\t\tO\t\tO\t\tO\t\tO\t\tO\t\tO\t\tO\t\tO\t\tO\t\tO\t\tO\t\tO\t\tO\t\tO\t\tORG\t\tO\t\tORG\t\tO\t\tO\t\tO\t\tO\t\tO\t\tO\t\tO\t\tO\t\tO\t\tO\t\tO\t\tO\t\tO\t\tO\t\tO\t\tO\t\tORG\t\tO\t\tO\t\tO\t\tO\t\tO\t\tO\t\tO\t\tO\t\tO\t\tO\t\tO\t\tO\t\tO\t\tO\t\tO\t\tO\t\tO\t\tO\t\tO\t\tO\t\tO\t\tO\t\tO\t\tO\t\tO\t\tO\t\tO\t\tO\t\tO\t\tO\t\tO\t\tORG\t\tO\t\tO\t\tO\t\tO\t\tO\t\tO\t\tO\t\tO\t\tO\t\tO\t\tO\t\tO\t\tO\t\tO\t\tO\t\tO\t\tO\t\tO\t\tO\t\tO\t\tO\t\tO\t\tO\t\tO\t\tO\t\tO\t\tO\t\tO\t\tO\t\tO\t\tO\t\tO\t\tORG\t\tO\t\tO\t\tO\t\tO\t\tO\t\tO\t\tO\t\tO\t\tO\t\tO\t\tO\t\tO\t\tO\t\tO\t\tO\t\tO\t\tO\t\tO\t\tO\t\tO\t\tO\t\tO\t\tO\t\tO\t\tO\t\tO\t\tO\t\tO\t\tO\t\tO\t\tO\t\tO\t\tO\t\tORG\t\tO\t\tO\t\tO\t\tO\t\tO\t\tO\t\tO\t\tO\t\tO\t\tO\t\tO\t\tO\t\tO\t\tO\t\tO\t\tO\t\tO\t\tO\t\tO\t\tO\t\tO\t\tO\t\tO\t\tO\t\tO\t\tO\t\tO\t\tO\t\tO\t\tO\t\tO\t\tO\t\tO\t\tO\t\tO\t\tO\t\tO\t\tO\t\tO\t\tO\t\tO\t\tO\t\tO\t\tO\t\tO\t\tO\t\tO\t\tO\t\tO\t\tO\t\tO\t\tO\t\tO\t\tO\t\tO\t\tO\t\tO\t\tO\t\tO\t\tO\t\tO\t\tO\t\tO\t\tO\t\tORG\t\tO\t\tO\t\tO\t\tO\t\tO\t\tO\t\tO\t\tO\t\tO\t\tO\t\tO\t\tO\t\tO\t\tO\t\tO\t\tO\t\tO\t\tO\t\tORG\t\tO\t\tO\t\tO\t\tO\t\tO\t\tO\t\tO\t\tO\t\tO\t\tO\t\tO\t\tO\t\tO\t\tO\t\tO\t\tO\t\tO\t\tO\t\tO\t\tORG\t\tO\t\tO\t\tO\t\tO\t\tO\t\tO\t\tO\t\tO\t\tO\t\tO\t\tO\t\tO\t\tO\t\tO\t\tORG\t\tO\t\tO\t\tO\t\tO\t\tO\t\tO\t\tO\t\tO\t\tO\t\tO\t\tO\t\tO\t\tO\t\tO\t\tO\t\tO\t\tO\t\tORG\t\tORG\t\tO\t\tO\t\tO\t\tO\t\tO\t\tO\t\tO\t\tO\t\tORG\t\tO\t\tO\t\tO\t\tO\t\tO\t\tO\t\tO\t\tO\t\tO\t\tO\t\tO\t\tO\t\tO\t\tO\t\tO\t\tO\t\tO\t\tORG\t\tO\t\tO\t\tO\t\tO\t\tO\t\tO\t\tO\t\tO\t\tO\t\tO\t\tO\t\tO\t\tO\t\tO\t\tO\t\tO\t\tORG\t\tO\t\tO\t\tO\t\tO\t\tO\t\tO\t\tO\t\tO\t\tO\t\tO\t\tO\t\tO\t\tORG\t\tO\t\tO\t\tO\t\tO\t\tO\t\tO\t\tO\t\tO\t\tO\t\tO\t\tO\t\tO\t\tO\t\tORG\t\tO\t\tO\t\tO\t\tO\t\tO\t\tO\t\tO\t\tO\t\tO\t\tO\t\tO\t\tO\t\tORG\t\tO\t\tORG\t\tO\t\tO\t\tO\t\tO\t\tO\t\tO\t\tO\t\tO\t\tO\t\tO\t\tO\t\tO\t\tO\t\tO\t\tO\t\tO\t\tO\t\tO\t\tO\t\tO\t\tORG\t\tO\t\tO\t\tO\t\tO\t\tO\t\tO\t\tO\t\tO\t\tO\t\tO\t\tORG\t\tO\t\tO\t\tO\t\tO\t\tO\t\tO\t\tO\t\tO\t\tO\t\tO\t\tO\t\tO\t\tO\t\tO\t\tO\t\tO\t\tO\t\tORG\t\tO\t\tO\t\tORG\t\tO\t\tO\t\tO\t\tO\t\tO\t\tO\t\tO\t\tO\t\tO\t\tO\t\tO\t\tO\t\tO\t\tO\t\tO\t\tO\t\tO\t\tO\t\tO\t\tO\t\tO\t\tO\t\tO\t\tO\t\tORG\t\tO\t\tO\t\tO\t\tO\t\tO\t\tO\t\tO\t\tO\t\tORG\t\tO\t\tO\t\tO\t\tO\t\tORG\t\tO\t\tORG\t\tO\t\tO\t\tO\t\tO\n",
      "\n",
      "\n",
      "Example 3:\n",
      "----------------------------------------\n",
      "Tokens:             [CLS]\t\tA\t\tformer\t\tcore\t\tinfrastructure\t\tengineer\t\tat\t\tan\t\tindustrial\t\tcompany\t\theadquartered\t\tin\t\tSomerset\t\tCounty\t\t,\t\tNew\t\tJersey\t\t,\t\twas\t\tarrested\t\tafter\t\tlocking\t\tWindows\t\tad\t\t##mins\t\tout\t\tof\t\t254\t\tservers\t\tin\t\ta\t\tfailed\t\tex\t\t##tor\t\t##tion\t\tplot\t\ttargeting\t\this\t\temployer\t\t.\t\tAccording\t\tto\t\tcourt\t\tdocuments\t\t,\t\tcompany\t\temployees\t\treceived\t\ta\t\transom\t\temail\t\ttitled\t\t\"\t\tYour\t\tNetwork\t\tHas\t\tBeen\t\tPen\t\t##et\t\t##rated\t\t\"\t\ton\t\tNovember\t\t25\t\t,\t\taround\t\t4\t\t:\t\t44\t\tPM\t\tE\t\t##ST\t\t.\t\tThe\t\temail\t\tclaimed\t\tthat\t\tall\t\tIT\t\tadministrators\t\thad\t\tbeen\t\tlocked\t\tout\t\tof\t\ttheir\t\taccounts\t\tand\t\tserver\t\tbackup\t\t##s\t\thad\t\tbeen\t\tdeleted\t\tto\t\tmake\t\tdata\t\trecovery\t\timpossible\t\t.\t\tAdditionally\t\t,\t\tthe\t\tmessage\t\tthreatened\t\tto\t\tshut\t\tdown\t\t40\t\trandom\t\tservers\t\ton\t\tthe\t\tcompany\t\t'\t\ts\t\tnetwork\t\tdaily\t\tover\t\tthe\t\tnext\t\tten\t\tdays\t\tunless\t\ta\t\transom\t\tof\t\t€\t\t##70\t\t##0\t\t,\t\t000\t\t(\t\tin\t\tthe\t\tform\t\tof\t\t20\t\tBit\t\t##co\t\t##in\t\t)\t\twas\t\tpaid\t\t—\t\tat\t\tthe\t\ttime\t\t,\t\t20\t\tBT\t\t##C\t\twere\t\tworth\t\t$\t\t750\t\t,\t\t000\t\t.\t\tThe\t\tinvestigation\t\tcoordinated\t\tby\t\tFBI\t\tSpecial\t\tAgent\t\tJames\t\tE\t\t.\t\tDen\t\t##ne\t\t##hy\t\tin\t\tNewark\t\tuncovered\t\tthat\t\t57\t\t-\t\tyear\t\t-\t\told\t\tDaniel\t\tR\t\t##hy\t\t##ne\t\tfrom\t\tKansas\t\tCity\t\t,\t\tMissouri\t\t,\t\twho\t\twas\t\tworking\t\tas\t\ta\t\tcore\t\tinfrastructure\t\tengineer\t\tfor\t\tthe\t\tNew\t\tJersey\t\tindustrial\t\tcompany\t\t,\t\thad\t\tremotely\t\taccessed\t\tthe\t\tcompany\t\t'\t\ts\t\tcomputer\t\tsystems\t\twithout\t\tauthorization\t\tusing\t\ta\t\tcompany\t\tadministrator\t\taccount\t\tbetween\t\tNovember\t\t9\t\tand\t\tNovember\t\t25\t\t.\t\tHe\t\tthen\t\tscheduled\t\ttasks\t\ton\t\tthe\t\tcompany\t\t'\t\ts\t\tdomain\t\tcontrolled\t\tto\t\tchange\t\tthe\t\tpassword\t\t##s\t\tfor\t\tthe\t\tAdministrator\t\taccount\t\t,\t\t13\t\tdomain\t\tadministrator\t\taccounts\t\t,\t\tand\t\t301\t\tdomain\t\tuser\t\taccounts\t\tto\t\tthe\t\t\"\t\tThe\t\t##F\t\t##r\t\t##0\t\t##zen\t\t##C\t\t##rew\t\t!\t\t\"\t\ttext\t\tstring\t\t.\t\tThe\t\tcriminal\t\tcomplaint\t\tall\t\t##ege\t\t##s\t\tthat\t\tR\t\t##hy\t\t##ne\t\talso\t\tscheduled\t\ttasks\t\tto\t\tchange\t\tthe\t\tpassword\t\t##s\t\tfor\t\ttwo\t\tlocal\t\tadministrator\t\taccounts\t\t,\t\twhich\t\twould\t\timpact\t\t254\t\tservers\t\t,\t\tand\t\tfor\t\ttwo\t\tmore\t\tlocal\t\tad\t\t##min\t\taccounts\t\t,\t\twhich\t\twould\t\taffect\t\t3\t\t,\t\t28\t\t##4\t\tworks\t\t##tations\t\ton\t\this\t\temployer\t\t'\t\ts\t\tnetwork\t\t.\t\tHe\t\talso\t\tscheduled\t\tsome\t\ttasks\t\tto\t\tshut\t\tdown\t\trandom\t\tservers\t\tand\t\tworks\t\t##tations\t\tover\t\tmultiple\t\tdays\t\tin\t\tDecember\t\t202\t\t##3\t\t.\t\tThe\t\tinvestigators\t\talso\t\tfound\t\tduring\t\tforensic\t\tanalysis\t\tthat\t\t,\t\twhile\t\tplanning\t\this\t\tex\t\t##tor\t\t##tion\t\tplot\t\t,\t\tR\t\t##hy\t\t##ne\t\tallegedly\t\tused\t\ta\t\thidden\t\tvirtual\t\tmachine\t\the\t\taccessed\t\tusing\t\this\t\taccount\t\tand\t\tlaptop\t\tto\t\tsearch\t\tthe\t\tweb\t\ton\t\tNovember\t\t22\t\tfor\t\tinformation\t\ton\t\thow\t\tto\t\tdel\t\t##ete\t\tdomain\t\taccounts\t\t,\t\tclear\t\tWindows\t\tlogs\t\t,\t\tand\t\tchange\t\tdomain\t\tuser\t\tpassword\t\t##s\t\tusing\t\tthe\t\tcommand\t\tline\t\t.\t\tOn\t\tNovember\t\t15\t\t,\t\tR\t\t##hy\t\t##ne\t\talso\t\tmade\t\tsimilar\t\tweb\t\tsearches\t\ton\t\this\t\tlaptop\t\t,\t\tincluding\t\t\"\t\tcommand\t\tline\t\tto\t\tchange\t\tlocal\t\tadministrator\t\tpassword\t\t\"\t\tand\t\t\"\t\tcommand\t\tline\t\tto\t\tremotely\t\tchange\t\tlocal\t\tadministrator\t\tpassword\t\t.\t\t\"\t\t\"\t\tBy\t\tchanging\t\tadministrator\t\tand\t\tuser\t\tpassword\t\t##s\t\tand\t\tshutting\t\tdown\t\tVic\t\t##ti\t\t##m\t\t-\t\tl\t\t'\t\ts\t\tservers\t\t,\t\tthe\t\tscheduled\t\ttasks\t\twere\t\tcollectively\t\tdesigned\t\tand\t\tintended\t\tto\t\tdeny\t\tVic\t\t##ti\t\t##m\t\t-\t\t1\t\taccess\t\tto\t\tits\t\tsystems\t\tand\t\tdata\t\t,\t\t\"\t\tthe\t\tcriminal\t\tcomplaint\t\treads\t\t.\t\t\"\t\tOn\t\tor\t\tabout\t\tNovember\t\t25\t\t,\t\t202\t\t##3\t\t[SEP]\n",
      "Gold Labels:        O\t\tO\t\tO\t\tO\t\tO\t\tO\t\tO\t\tO\t\tO\t\tO\t\tO\t\tO\t\tB-LOC\t\tI-LOC\t\tO\t\tB-LOC\t\tI-LOC\t\tO\t\tO\t\tO\t\tO\t\tO\t\tB-MISC\t\tO\t\tO\t\tO\t\tO\t\tO\t\tO\t\tO\t\tO\t\tO\t\tO\t\tO\t\tO\t\tO\t\tO\t\tO\t\tO\t\tO\t\tO\t\tO\t\tO\t\tO\t\tO\t\tO\t\tO\t\tO\t\tO\t\tO\t\tO\t\tO\t\tO\t\tO\t\tO\t\tO\t\tO\t\tO\t\tO\t\tO\t\tO\t\tO\t\tO\t\tO\t\tO\t\tO\t\tO\t\tO\t\tO\t\tO\t\tO\t\tO\t\tO\t\tO\t\tO\t\tO\t\tO\t\tO\t\tO\t\tO\t\tO\t\tO\t\tO\t\tO\t\tO\t\tO\t\tO\t\tO\t\tO\t\tO\t\tO\t\tO\t\tO\t\tO\t\tO\t\tO\t\tO\t\tO\t\tO\t\tO\t\tO\t\tO\t\tO\t\tO\t\tO\t\tO\t\tO\t\tO\t\tO\t\tO\t\tO\t\tO\t\tO\t\tO\t\tO\t\tO\t\tO\t\tO\t\tO\t\tO\t\tO\t\tO\t\tO\t\tO\t\tO\t\tO\t\tO\t\tO\t\tO\t\tO\t\tO\t\tO\t\tO\t\tO\t\tO\t\tO\t\tO\t\tO\t\tO\t\tO\t\tO\t\tO\t\tO\t\tO\t\tO\t\tO\t\tO\t\tO\t\tO\t\tO\t\tO\t\tO\t\tO\t\tO\t\tO\t\tO\t\tO\t\tO\t\tO\t\tO\t\tO\t\tO\t\tO\t\tB-ORG\t\tO\t\tO\t\tB-PER\t\tI-PER\t\tI-PER\t\tI-PER\t\tI-PER\t\tI-PER\t\tO\t\tO\t\tO\t\tO\t\tO\t\tO\t\tO\t\tO\t\tO\t\tB-PER\t\tI-PER\t\tI-PER\t\tI-PER\t\tO\t\tB-LOC\t\tI-LOC\t\tO\t\tB-LOC\t\tO\t\tO\t\tO\t\tO\t\tO\t\tO\t\tO\t\tO\t\tO\t\tO\t\tO\t\tB-LOC\t\tI-LOC\t\tO\t\tO\t\tO\t\tO\t\tO\t\tO\t\tO\t\tO\t\tO\t\tO\t\tO\t\tO\t\tO\t\tO\t\tO\t\tO\t\tO\t\tO\t\tO\t\tO\t\tO\t\tO\t\tO\t\tO\t\tO\t\tO\t\tO\t\tO\t\tO\t\tO\t\tO\t\tO\t\tO\t\tO\t\tO\t\tO\t\tO\t\tO\t\tO\t\tO\t\tO\t\tO\t\tO\t\tO\t\tO\t\tO\t\tO\t\tO\t\tO\t\tO\t\tO\t\tO\t\tO\t\tO\t\tO\t\tO\t\tO\t\tO\t\tO\t\tO\t\tO\t\tO\t\tO\t\tO\t\tO\t\tO\t\tO\t\tO\t\tO\t\tO\t\tO\t\tO\t\tO\t\tO\t\tO\t\tO\t\tO\t\tO\t\tO\t\tB-PER\t\tI-PER\t\tI-PER\t\tO\t\tO\t\tO\t\tO\t\tO\t\tO\t\tO\t\tO\t\tO\t\tO\t\tO\t\tO\t\tO\t\tO\t\tO\t\tO\t\tO\t\tO\t\tO\t\tO\t\tO\t\tO\t\tO\t\tO\t\tO\t\tO\t\tO\t\tO\t\tO\t\tO\t\tO\t\tO\t\tO\t\tO\t\tO\t\tO\t\tO\t\tO\t\tO\t\tO\t\tO\t\tO\t\tO\t\tO\t\tO\t\tO\t\tO\t\tO\t\tO\t\tO\t\tO\t\tO\t\tO\t\tO\t\tO\t\tO\t\tO\t\tO\t\tO\t\tO\t\tO\t\tO\t\tO\t\tO\t\tO\t\tO\t\tO\t\tO\t\tO\t\tO\t\tO\t\tO\t\tO\t\tO\t\tO\t\tO\t\tO\t\tO\t\tO\t\tO\t\tO\t\tO\t\tO\t\tB-PER\t\tI-PER\t\tI-PER\t\tO\t\tO\t\tO\t\tO\t\tO\t\tO\t\tO\t\tO\t\tO\t\tO\t\tO\t\tO\t\tO\t\tO\t\tO\t\tO\t\tO\t\tO\t\tO\t\tO\t\tO\t\tO\t\tO\t\tO\t\tO\t\tO\t\tO\t\tO\t\tO\t\tO\t\tO\t\tO\t\tO\t\tO\t\tO\t\tO\t\tO\t\tO\t\tO\t\tO\t\tO\t\tO\t\tO\t\tO\t\tO\t\tO\t\tO\t\tO\t\tO\t\tB-PER\t\tI-PER\t\tI-PER\t\tO\t\tO\t\tO\t\tO\t\tO\t\tO\t\tO\t\tO\t\tO\t\tO\t\tO\t\tO\t\tO\t\tO\t\tO\t\tO\t\tO\t\tO\t\tO\t\tO\t\tO\t\tO\t\tO\t\tO\t\tO\t\tO\t\tO\t\tO\t\tO\t\tO\t\tO\t\tO\t\tO\t\tO\t\tO\t\tO\t\tO\t\tO\t\tO\t\tO\t\tO\t\tO\t\tB-ORG\t\tI-ORG\t\tI-ORG\t\tI-ORG\t\tI-ORG\t\tI-ORG\t\tI-ORG\t\tO\t\tO\t\tO\t\tO\t\tO\t\tO\t\tO\t\tO\t\tO\t\tO\t\tO\t\tO\t\tB-ORG\t\tI-ORG\t\tI-ORG\t\tI-ORG\t\tI-ORG\t\tO\t\tO\t\tO\t\tO\t\tO\t\tO\t\tO\t\tO\t\tO\t\tO\t\tO\t\tO\t\tO\t\tO\t\tO\t\tO\t\tO\t\tO\t\tO\t\tO\t\tO\t\tO\t\tO\n",
      "Predicted Labels:   O\t\tO\t\tO\t\tO\t\tO\t\tO\t\tO\t\tO\t\tO\t\tO\t\tO\t\tO\t\tO\t\tO\t\tO\t\tO\t\tO\t\tO\t\tO\t\tO\t\tO\t\tO\t\tSoftware\t\tO\t\tO\t\tO\t\tO\t\tO\t\tO\t\tO\t\tO\t\tO\t\tO\t\tO\t\tO\t\tO\t\tO\t\tO\t\tO\t\tO\t\tO\t\tO\t\tO\t\tO\t\tO\t\tO\t\tO\t\tO\t\tO\t\tO\t\tO\t\tO\t\tO\t\tO\t\tO\t\tO\t\tO\t\tO\t\tO\t\tO\t\tO\t\tO\t\tO\t\tO\t\tO\t\tO\t\tO\t\tO\t\tO\t\tO\t\tO\t\tO\t\tO\t\tO\t\tO\t\tO\t\tO\t\tO\t\tO\t\tO\t\tO\t\tO\t\tO\t\tO\t\tO\t\tO\t\tO\t\tO\t\tO\t\tO\t\tO\t\tO\t\tO\t\tO\t\tO\t\tO\t\tO\t\tO\t\tO\t\tO\t\tO\t\tO\t\tO\t\tO\t\tO\t\tO\t\tO\t\tO\t\tO\t\tO\t\tO\t\tO\t\tO\t\tO\t\tO\t\tO\t\tO\t\tO\t\tO\t\tO\t\tO\t\tO\t\tO\t\tO\t\tO\t\tO\t\tO\t\tO\t\tO\t\tO\t\tO\t\tO\t\tO\t\tO\t\tO\t\tO\t\tO\t\tO\t\tO\t\tO\t\tO\t\tO\t\tO\t\tO\t\tO\t\tO\t\tO\t\tO\t\tO\t\tO\t\tO\t\tO\t\tO\t\tO\t\tO\t\tO\t\tO\t\tO\t\tO\t\tO\t\tO\t\tO\t\tO\t\tORG\t\tO\t\tO\t\tO\t\tO\t\tO\t\tO\t\tO\t\tO\t\tO\t\tLOC\t\tO\t\tO\t\tO\t\tO\t\tO\t\tO\t\tO\t\tO\t\tO\t\tO\t\tO\t\tO\t\tO\t\tO\t\tO\t\tLOC\t\tO\t\tO\t\tO\t\tO\t\tO\t\tO\t\tO\t\tO\t\tO\t\tO\t\tO\t\tO\t\tO\t\tO\t\tO\t\tO\t\tO\t\tO\t\tO\t\tO\t\tO\t\tO\t\tO\t\tO\t\tO\t\tO\t\tO\t\tO\t\tO\t\tO\t\tO\t\tO\t\tO\t\tO\t\tO\t\tO\t\tO\t\tO\t\tO\t\tO\t\tO\t\tO\t\tO\t\tO\t\tO\t\tO\t\tO\t\tO\t\tO\t\tO\t\tO\t\tO\t\tO\t\tO\t\tO\t\tO\t\tO\t\tO\t\tO\t\tO\t\tO\t\tO\t\tO\t\tO\t\tO\t\tO\t\tO\t\tO\t\tO\t\tO\t\tO\t\tO\t\tO\t\tO\t\tO\t\tO\t\tO\t\tO\t\tO\t\tO\t\tO\t\tO\t\tO\t\tO\t\tO\t\tO\t\tO\t\tO\t\tO\t\tO\t\tO\t\tO\t\tO\t\tO\t\tO\t\tO\t\tO\t\tO\t\tO\t\tO\t\tO\t\tO\t\tO\t\tO\t\tO\t\tO\t\tO\t\tO\t\tO\t\tO\t\tO\t\tO\t\tO\t\tO\t\tO\t\tO\t\tO\t\tO\t\tO\t\tO\t\tO\t\tO\t\tO\t\tO\t\tO\t\tO\t\tO\t\tO\t\tO\t\tO\t\tO\t\tO\t\tO\t\tO\t\tO\t\tO\t\tO\t\tO\t\tO\t\tO\t\tO\t\tO\t\tO\t\tO\t\tO\t\tO\t\tO\t\tO\t\tO\t\tO\t\tO\t\tO\t\tO\t\tO\t\tO\t\tO\t\tO\t\tO\t\tO\t\tO\t\tO\t\tO\t\tO\t\tO\t\tO\t\tO\t\tO\t\tO\t\tO\t\tO\t\tO\t\tO\t\tO\t\tO\t\tO\t\tO\t\tO\t\tO\t\tO\t\tO\t\tO\t\tO\t\tO\t\tO\t\tO\t\tO\t\tO\t\tO\t\tO\t\tO\t\tO\t\tO\t\tO\t\tO\t\tO\t\tO\t\tO\t\tO\t\tO\t\tO\t\tO\t\tO\t\tO\t\tO\t\tO\t\tO\t\tO\t\tO\t\tO\t\tO\t\tO\t\tO\t\tSoftware\t\tO\t\tO\t\tO\t\tO\t\tO\t\tO\t\tO\t\tO\t\tO\t\tO\t\tO\t\tO\t\tO\t\tO\t\tO\t\tO\t\tO\t\tO\t\tO\t\tO\t\tO\t\tO\t\tO\t\tO\t\tO\t\tO\t\tO\t\tO\t\tO\t\tO\t\tO\t\tO\t\tO\t\tO\t\tO\t\tO\t\tO\t\tO\t\tO\t\tO\t\tO\t\tO\t\tO\t\tO\t\tO\t\tO\t\tO\t\tO\t\tO\t\tO\t\tO\t\tO\t\tO\t\tO\t\tO\t\tO\t\tO\t\tO\t\tO\t\tO\t\tO\t\tO\t\tO\t\tO\t\tO\t\tO\t\tO\t\tO\t\tO\t\tO\t\tO\t\tO\t\tO\t\tO\t\tO\t\tO\t\tO\t\tO\t\tO\t\tO\t\tO\t\tO\t\tO\t\tO\t\tO\t\tORG\t\tO\t\tO\t\tO\t\tO\t\tO\t\tO\t\tO\t\tO\t\tO\t\tO\t\tO\t\tO\t\tO\t\tO\t\tO\t\tO\t\tO\t\tO\t\tO\t\tO\t\tO\t\tO\t\tO\n",
      "\n",
      "\n",
      "Example 4:\n",
      "----------------------------------------\n",
      "Tokens:             [CLS]\t\tT\t\t##hr\t\t##eat\t\tactors\t\ttarget\t\tMiddle\t\tEastern\t\torganizations\t\twith\t\tma\t\t##l\t\t##ware\t\tdisguised\t\tas\t\tthe\t\tlegitimate\t\tPa\t\t##lo\t\tAlto\t\tGlobal\t\t##P\t\t##rote\t\t##ct\t\tToo\t\t##l\t\tthat\t\tcan\t\tsteal\t\tdata\t\tand\t\texecute\t\tremote\t\tPower\t\t##S\t\t##hell\t\tcommands\t\tto\t\tin\t\t##fi\t\t##lt\t\t##rate\t\tinternal\t\tnetworks\t\tfurther\t\t.\t\tPa\t\t##lo\t\tAlto\t\tGlobal\t\t##P\t\t##rote\t\t##ct\t\tis\t\ta\t\tlegitimate\t\tsecurity\t\tsolution\t\toffered\t\tby\t\tPa\t\t##lo\t\tAlto\t\tNetworks\t\tthat\t\tprovides\t\tsecure\t\tVP\t\t##N\t\taccess\t\twith\t\tmulti\t\t-\t\tfactor\t\tauthentic\t\t##ation\t\tsupport\t\t.\t\tOrganizations\t\twidely\t\tuse\t\tthe\t\tproduct\t\tto\t\tensure\t\tremote\t\temployees\t\t,\t\tcontractors\t\t,\t\tand\t\tpartners\t\tcan\t\tsecure\t\t##ly\t\taccess\t\tprivate\t\tnetwork\t\tresources\t\t.\t\tUsing\t\tPa\t\t##lo\t\tAlto\t\tGlobal\t\t##P\t\t##rote\t\t##ct\t\tas\t\tbait\t\tshows\t\tthe\t\tattackers\t\t'\t\ttargeting\t\tfocuses\t\ton\t\thigh\t\t-\t\tvalue\t\tcorporate\t\tentities\t\tusing\t\tenterprise\t\tsoftware\t\trather\t\tthan\t\trandom\t\tusers\t\t.\t\tResearchers\t\tat\t\tT\t\t##ren\t\t##d\t\tMicro\t\twho\t\tdiscovered\t\tthis\t\tcampaign\t\thave\t\tno\t\tinsight\t\tinto\t\thow\t\tthe\t\tma\t\t##l\t\t##ware\t\tis\t\tdelivered\t\t,\t\tbut\t\tbased\t\ton\t\tthe\t\tlure\t\tused\t\t,\t\tthey\t\tbelieve\t\tthe\t\tattack\t\tstarts\t\twith\t\ta\t\tp\t\t##his\t\t##hing\t\temail\t\t.\t\tThe\t\tvictim\t\texecute\t\t##s\t\ta\t\tfile\t\tnamed\t\t'\t\tsetup\t\t.\t\tex\t\t##e\t\t'\t\ton\t\ttheir\t\tsystem\t\t,\t\twhich\t\tdeploy\t\t##s\t\ta\t\tfile\t\tcalled\t\t'\t\tGlobal\t\t##P\t\t##rote\t\t##ct\t\t.\t\tex\t\t##e\t\t'\t\talong\t\twith\t\tconfiguration\t\tfiles\t\t.\t\tAt\t\tthis\t\tstage\t\t,\t\ta\t\twindow\t\tresembling\t\ta\t\tnormal\t\tGlobal\t\t##P\t\t##rote\t\t##ct\t\tinstallation\t\tprocess\t\tappears\t\t,\t\tbut\t\tthe\t\tma\t\t##l\t\t##ware\t\tquietly\t\tloads\t\ton\t\tthe\t\tsystem\t\tin\t\tthe\t\tbackground\t\t.\t\tUpon\t\texecution\t\t,\t\tit\t\tchecks\t\tfor\t\tsigns\t\tof\t\trunning\t\ton\t\ta\t\tsand\t\t##box\t\tbefore\t\texecuting\t\tits\t\tprimary\t\tcode\t\t.\t\tThen\t\t,\t\tit\t\ttransmit\t\t##s\t\tpro\t\t##fi\t\t##ling\t\tinformation\t\tabout\t\tthe\t\tbreach\t\t##ed\t\tmachine\t\tonto\t\tthe\t\tcommand\t\tand\t\tcontrol\t\t(\t\tC\t\t##2\t\t)\t\tserver\t\t.\t\tAs\t\tan\t\tadditional\t\te\t\t##vas\t\t##ion\t\tlayer\t\t,\t\tthe\t\tma\t\t##l\t\t##ware\t\tuses\t\tA\t\t##ES\t\tencryption\t\ton\t\tits\t\tstrings\t\tand\t\tdata\t\tpackets\t\tto\t\tbe\t\tex\t\t##fi\t\t##lt\t\t##rated\t\tto\t\tthe\t\tC\t\t##2\t\t.\t\tThe\t\tC\t\t##2\t\taddress\t\tseen\t\tby\t\tT\t\t##ren\t\t##d\t\tMicro\t\tused\t\ta\t\tnewly\t\tregistered\t\tU\t\t##RL\t\tcontaining\t\tthe\t\t\"\t\ts\t\t##har\t\t##jah\t\t##con\t\t##nect\t\t\"\t\tstring\t\t,\t\tmaking\t\tit\t\tappear\t\tlike\t\ta\t\tlegitimate\t\tVP\t\t##N\t\tconnection\t\tportal\t\tfor\t\tS\t\t##har\t\t##jah\t\t-\t\tbased\t\toffices\t\tin\t\tthe\t\tUnited\t\tArab\t\tEmirates\t\t.\t\tConsidering\t\tthe\t\tcampaign\t\t'\t\ts\t\ttargeting\t\tscope\t\t,\t\tthis\t\tchoice\t\thelps\t\tthe\t\tthreat\t\tactors\t\tblend\t\twith\t\tnormal\t\toperations\t\tand\t\treduce\t\tred\t\tflags\t\tthat\t\tcould\t\traise\t\tthe\t\tvictim\t\t'\t\ts\t\tsuspicion\t\t.\t\tBeacon\t\t##s\t\tsent\t\tout\t\tat\t\tperiodic\t\tintervals\t\tare\t\temployed\t\tto\t\tcommunicate\t\tthe\t\tma\t\t##l\t\t##ware\t\tstatus\t\twith\t\tthe\t\tthreat\t\tactors\t\tin\t\tthe\t\tpost\t\t-\t\tinfection\t\tphase\t\tusing\t\tthe\t\tInter\t\t##acts\t\t##h\t\topen\t\t-\t\tsource\t\ttool\t\t.\t\tWhile\t\tInter\t\t##acts\t\t##h\t\tis\t\ta\t\tlegitimate\t\topen\t\t-\t\tsource\t\ttool\t\tcommonly\t\tused\t\tby\t\tpen\t\t##test\t\t##ers\t\t,\t\tits\t\trelated\t\tdomain\t\t,\t\to\t\t##ast\t\t.\t\tfun\t\t,\t\thas\t\talso\t\tbeen\t\tobserved\t\tin\t\tAP\t\t##T\t\t-\t\tlevel\t\toperations\t\tin\t\tthe\t\tpast\t\t,\t\tlike\t\tin\t\tAP\t\t##T\t\t##28\t\tcampaigns\t\t.\t\tHowever\t\t,\t\tno\t\tat\t\t##tribution\t\twas\t\tgiven\t\tin\t\tthis\t\toperation\t\tusing\t\tthe\t\tPa\t\t##lo\t\tAlto\t\tproduct\t\tlure\t\t.\t\tThe\t\tcommands\t\treceived\t\tfrom\t\tthe\t\tcommand\t\tand\t\tcontrol\t\tserver\t\tare\t\t:\t\tT\t\t[SEP]\n",
      "Gold Labels:        O\t\tO\t\tO\t\tO\t\tO\t\tO\t\tB-LOC\t\tI-LOC\t\tO\t\tO\t\tO\t\tO\t\tO\t\tO\t\tO\t\tO\t\tO\t\tB-ORG\t\tI-ORG\t\tI-ORG\t\tB-MISC\t\tI-MISC\t\tI-MISC\t\tI-MISC\t\tI-MISC\t\tI-MISC\t\tO\t\tO\t\tO\t\tO\t\tO\t\tO\t\tO\t\tB-MISC\t\tI-MISC\t\tI-MISC\t\tO\t\tO\t\tO\t\tO\t\tO\t\tO\t\tO\t\tO\t\tO\t\tO\t\tB-ORG\t\tI-ORG\t\tI-ORG\t\tB-MISC\t\tI-MISC\t\tI-MISC\t\tI-MISC\t\tO\t\tO\t\tO\t\tO\t\tO\t\tO\t\tO\t\tB-ORG\t\tI-ORG\t\tI-ORG\t\tI-ORG\t\tO\t\tO\t\tO\t\tO\t\tO\t\tO\t\tO\t\tO\t\tO\t\tO\t\tO\t\tO\t\tO\t\tO\t\tO\t\tO\t\tO\t\tO\t\tO\t\tO\t\tO\t\tO\t\tO\t\tO\t\tO\t\tO\t\tO\t\tO\t\tO\t\tO\t\tO\t\tO\t\tO\t\tO\t\tO\t\tO\t\tO\t\tB-ORG\t\tI-ORG\t\tI-ORG\t\tB-MISC\t\tI-MISC\t\tI-MISC\t\tI-MISC\t\tO\t\tO\t\tO\t\tO\t\tO\t\tO\t\tO\t\tO\t\tO\t\tO\t\tO\t\tO\t\tO\t\tO\t\tO\t\tO\t\tO\t\tO\t\tO\t\tO\t\tO\t\tO\t\tO\t\tO\t\tB-ORG\t\tI-ORG\t\tI-ORG\t\tI-ORG\t\tO\t\tO\t\tO\t\tO\t\tO\t\tO\t\tO\t\tO\t\tO\t\tO\t\tO\t\tO\t\tO\t\tO\t\tO\t\tO\t\tO\t\tO\t\tO\t\tO\t\tO\t\tO\t\tO\t\tO\t\tO\t\tO\t\tO\t\tO\t\tO\t\tO\t\tB-MISC\t\tI-MISC\t\tI-MISC\t\tI-MISC\t\tO\t\tO\t\tO\t\tO\t\tO\t\tO\t\tO\t\tO\t\tO\t\tO\t\tO\t\tO\t\tO\t\tO\t\tO\t\tO\t\tO\t\tO\t\tO\t\tO\t\tO\t\tO\t\tO\t\tO\t\tO\t\tO\t\tO\t\tO\t\tO\t\tO\t\tO\t\tO\t\tO\t\tO\t\tO\t\tO\t\tO\t\tO\t\tO\t\tO\t\tO\t\tO\t\tO\t\tO\t\tO\t\tO\t\tO\t\tB-MISC\t\tI-MISC\t\tI-MISC\t\tI-MISC\t\tO\t\tO\t\tO\t\tO\t\tO\t\tO\t\tO\t\tO\t\tO\t\tO\t\tO\t\tO\t\tO\t\tO\t\tO\t\tO\t\tO\t\tO\t\tO\t\tO\t\tO\t\tO\t\tO\t\tO\t\tO\t\tO\t\tO\t\tO\t\tO\t\tO\t\tO\t\tO\t\tO\t\tO\t\tO\t\tO\t\tO\t\tO\t\tO\t\tO\t\tO\t\tO\t\tO\t\tO\t\tO\t\tO\t\tO\t\tO\t\tO\t\tO\t\tO\t\tO\t\tO\t\tO\t\tO\t\tO\t\tO\t\tO\t\tO\t\tO\t\tO\t\tO\t\tO\t\tO\t\tO\t\tO\t\tO\t\tO\t\tO\t\tO\t\tO\t\tO\t\tO\t\tO\t\tO\t\tO\t\tO\t\tO\t\tO\t\tO\t\tO\t\tO\t\tO\t\tO\t\tO\t\tO\t\tO\t\tO\t\tO\t\tO\t\tO\t\tO\t\tO\t\tO\t\tO\t\tO\t\tO\t\tO\t\tO\t\tO\t\tO\t\tB-ORG\t\tI-ORG\t\tI-ORG\t\tI-ORG\t\tO\t\tO\t\tO\t\tO\t\tO\t\tO\t\tO\t\tO\t\tO\t\tO\t\tO\t\tO\t\tO\t\tO\t\tO\t\tO\t\tO\t\tO\t\tO\t\tO\t\tO\t\tO\t\tO\t\tO\t\tO\t\tO\t\tO\t\tO\t\tB-LOC\t\tI-LOC\t\tI-LOC\t\tO\t\tO\t\tO\t\tO\t\tO\t\tB-LOC\t\tI-LOC\t\tI-LOC\t\tO\t\tO\t\tO\t\tO\t\tO\t\tO\t\tO\t\tO\t\tO\t\tO\t\tO\t\tO\t\tO\t\tO\t\tO\t\tO\t\tO\t\tO\t\tO\t\tO\t\tO\t\tO\t\tO\t\tO\t\tO\t\tO\t\tO\t\tO\t\tO\t\tO\t\tO\t\tO\t\tO\t\tO\t\tO\t\tO\t\tO\t\tO\t\tO\t\tO\t\tO\t\tO\t\tO\t\tO\t\tO\t\tO\t\tO\t\tO\t\tO\t\tO\t\tO\t\tO\t\tO\t\tO\t\tO\t\tO\t\tO\t\tO\t\tO\t\tO\t\tO\t\tO\t\tO\t\tO\t\tO\t\tO\t\tO\t\tO\t\tO\t\tB-MISC\t\tI-MISC\t\tI-MISC\t\tO\t\tO\t\tO\t\tO\t\tO\t\tO\t\tO\t\tO\t\tO\t\tO\t\tO\t\tO\t\tO\t\tO\t\tO\t\tO\t\tO\t\tO\t\tO\t\tO\t\tO\t\tO\t\tO\t\tO\t\tO\t\tO\t\tO\t\tO\t\tO\t\tO\t\tO\t\tO\t\tO\t\tO\t\tO\t\tO\t\tO\t\tO\t\tO\t\tB-ORG\t\tI-ORG\t\tI-ORG\t\tO\t\tO\t\tO\t\tO\t\tO\t\tO\t\tO\t\tO\t\tO\t\tO\t\tO\t\tO\t\tO\t\tO\t\tB-ORG\t\tI-ORG\t\tI-ORG\t\tO\t\tO\t\tO\t\tO\t\tO\t\tO\t\tO\t\tO\t\tO\t\tO\t\tO\t\tO\t\tO\t\tO\t\tB-ORG\t\tO\n",
      "Predicted Labels:   O\t\tORG\t\tO\t\tO\t\tO\t\tO\t\tO\t\tO\t\tO\t\tO\t\tO\t\tO\t\tO\t\tO\t\tO\t\tO\t\tO\t\tO\t\tO\t\tO\t\tO\t\tO\t\tO\t\tO\t\tO\t\tO\t\tO\t\tO\t\tO\t\tO\t\tO\t\tO\t\tO\t\tO\t\tO\t\tO\t\tO\t\tO\t\tO\t\tO\t\tO\t\tO\t\tO\t\tO\t\tO\t\tO\t\tO\t\tO\t\tO\t\tO\t\tO\t\tO\t\tO\t\tO\t\tO\t\tO\t\tO\t\tO\t\tO\t\tO\t\tO\t\tO\t\tO\t\tO\t\tO\t\tO\t\tO\t\tO\t\tO\t\tO\t\tO\t\tO\t\tO\t\tO\t\tO\t\tO\t\tO\t\tO\t\tO\t\tO\t\tO\t\tO\t\tO\t\tO\t\tO\t\tO\t\tO\t\tO\t\tO\t\tO\t\tO\t\tO\t\tO\t\tO\t\tO\t\tO\t\tO\t\tO\t\tO\t\tO\t\tO\t\tO\t\tO\t\tO\t\tO\t\tO\t\tO\t\tO\t\tO\t\tO\t\tO\t\tO\t\tO\t\tO\t\tO\t\tO\t\tO\t\tO\t\tO\t\tO\t\tO\t\tO\t\tO\t\tO\t\tO\t\tO\t\tO\t\tO\t\tO\t\tO\t\tO\t\tO\t\tORG\t\tO\t\tO\t\tO\t\tO\t\tO\t\tO\t\tO\t\tO\t\tO\t\tO\t\tO\t\tO\t\tO\t\tO\t\tO\t\tO\t\tO\t\tO\t\tO\t\tO\t\tO\t\tO\t\tO\t\tO\t\tO\t\tO\t\tO\t\tO\t\tO\t\tO\t\tO\t\tO\t\tO\t\tO\t\tO\t\tO\t\tO\t\tO\t\tO\t\tO\t\tO\t\tO\t\tO\t\tO\t\tO\t\tO\t\tO\t\tO\t\tO\t\tO\t\tO\t\tO\t\tO\t\tO\t\tO\t\tO\t\tO\t\tO\t\tO\t\tO\t\tO\t\tO\t\tO\t\tO\t\tO\t\tO\t\tO\t\tO\t\tO\t\tO\t\tO\t\tO\t\tO\t\tO\t\tO\t\tO\t\tO\t\tO\t\tO\t\tO\t\tO\t\tO\t\tO\t\tO\t\tO\t\tO\t\tO\t\tO\t\tO\t\tO\t\tO\t\tO\t\tO\t\tO\t\tO\t\tO\t\tO\t\tO\t\tO\t\tO\t\tO\t\tO\t\tO\t\tO\t\tO\t\tO\t\tO\t\tO\t\tO\t\tO\t\tO\t\tO\t\tO\t\tO\t\tO\t\tO\t\tO\t\tO\t\tO\t\tO\t\tO\t\tO\t\tO\t\tO\t\tO\t\tO\t\tO\t\tO\t\tO\t\tO\t\tO\t\tO\t\tO\t\tO\t\tO\t\tO\t\tO\t\tO\t\tO\t\tO\t\tO\t\tO\t\tO\t\tO\t\tO\t\tO\t\tO\t\tO\t\tO\t\tO\t\tO\t\tO\t\tO\t\tO\t\tO\t\tO\t\tO\t\tO\t\tO\t\tO\t\tO\t\tO\t\tO\t\tO\t\tO\t\tO\t\tO\t\tO\t\tO\t\tO\t\tO\t\tO\t\tO\t\tO\t\tO\t\tO\t\tO\t\tO\t\tO\t\tO\t\tO\t\tO\t\tO\t\tO\t\tO\t\tO\t\tO\t\tO\t\tO\t\tORG\t\tO\t\tO\t\tO\t\tO\t\tO\t\tO\t\tO\t\tO\t\tO\t\tO\t\tO\t\tO\t\tO\t\tO\t\tO\t\tO\t\tO\t\tO\t\tO\t\tO\t\tO\t\tO\t\tO\t\tO\t\tO\t\tO\t\tO\t\tO\t\tO\t\tO\t\tO\t\tO\t\tO\t\tO\t\tO\t\tO\t\tO\t\tO\t\tO\t\tO\t\tO\t\tO\t\tO\t\tO\t\tO\t\tO\t\tO\t\tO\t\tO\t\tO\t\tO\t\tO\t\tO\t\tO\t\tO\t\tO\t\tO\t\tO\t\tO\t\tO\t\tO\t\tO\t\tO\t\tO\t\tO\t\tO\t\tO\t\tO\t\tO\t\tO\t\tO\t\tO\t\tO\t\tO\t\tO\t\tO\t\tO\t\tO\t\tO\t\tO\t\tO\t\tO\t\tO\t\tO\t\tO\t\tO\t\tO\t\tO\t\tO\t\tO\t\tO\t\tO\t\tO\t\tO\t\tO\t\tO\t\tO\t\tO\t\tO\t\tO\t\tO\t\tO\t\tO\t\tO\t\tO\t\tO\t\tO\t\tO\t\tO\t\tO\t\tO\t\tO\t\tO\t\tO\t\tO\t\tO\t\tO\t\tO\t\tO\t\tO\t\tO\t\tO\t\tO\t\tO\t\tO\t\tO\t\tO\t\tO\t\tO\t\tO\t\tO\t\tO\t\tO\t\tO\t\tO\t\tO\t\tO\t\tO\t\tO\t\tO\t\tO\t\tO\t\tO\t\tO\t\tO\t\tO\t\tO\t\tO\t\tO\t\tO\t\tO\t\tO\t\tO\t\tO\t\tO\t\tO\t\tO\t\tO\t\tO\t\tO\t\tO\t\tO\t\tO\t\tO\t\tO\t\tO\t\tO\t\tO\t\tO\t\tO\t\tO\t\tO\t\tO\t\tO\t\tO\t\tO\t\tO\t\tO\t\tO\t\tO\t\tO\t\tO\t\tO\t\tO\t\tO\t\tO\t\tO\t\tORG\t\tO\n",
      "\n",
      "\n",
      "Example 5:\n",
      "----------------------------------------\n",
      "Tokens:             [CLS]\t\tSince\t\tsurf\t\t##acing\t\tin\t\tFebruary\t\t202\t\t##4\t\t,\t\tRa\t\t##nso\t\t##m\t\t##H\t\t##ub\t\transom\t\t##ware\t\taffiliates\t\thave\t\tbreach\t\t##ed\t\tover\t\t200\t\tvictims\t\tfrom\t\ta\t\twide\t\trange\t\tof\t\tcritical\t\tU\t\t.\t\tS\t\t.\t\tinfrastructure\t\tsectors\t\t.\t\tThis\t\trelatively\t\tnew\t\transom\t\t##ware\t\t-\t\tas\t\t-\t\ta\t\t-\t\tservice\t\t(\t\tRa\t\t##a\t\t##S\t\t)\t\toperation\t\tex\t\t##tor\t\t##ts\t\tvictims\t\tin\t\texchange\t\tfor\t\tnot\t\tleaking\t\tstolen\t\tfiles\t\tand\t\tsells\t\tthe\t\tdocuments\t\tto\t\tthe\t\thighest\t\tbid\t\t##der\t\tif\t\tnegotiations\t\tfail\t\t.\t\tThe\t\transom\t\t##ware\t\tgroup\t\tfocuses\t\ton\t\tdata\t\t-\t\ttheft\t\t-\t\tbased\t\tex\t\t##tor\t\t##tion\t\trather\t\tthan\t\ten\t\t##c\t\t##ry\t\t##pt\t\t##ing\t\tvictims\t\t'\t\tfiles\t\t,\t\talthough\t\tthey\t\twere\t\talso\t\tidentified\t\tas\t\tpotential\t\tbuyers\t\tof\t\tKnight\t\transom\t\t##ware\t\tsource\t\tcode\t\t.\t\tSince\t\tthe\t\tstart\t\tof\t\tthe\t\tyear\t\t,\t\tRa\t\t##nso\t\t##m\t\t##H\t\t##ub\t\thas\t\tclaimed\t\tresponsibility\t\tfor\t\tbreach\t\t##ing\t\tAmerican\t\tnot\t\t-\t\tfor\t\t-\t\tprofit\t\tcredit\t\tunion\t\tPatel\t\t##co\t\t,\t\tthe\t\tRite\t\tAid\t\tdrugs\t\t##tore\t\tchain\t\t,\t\tthe\t\tChristie\t\t'\t\ts\t\tauction\t\thouse\t\t,\t\tU\t\t.\t\tS\t\t.\t\tte\t\t##le\t\t##com\t\tprovider\t\tFrontier\t\tCommunications\t\t,\t\tand\t\toil\t\tservices\t\tgiant\t\tHall\t\t##ib\t\t##urt\t\t##on\t\t.\t\tFrontier\t\tCommunications\t\tlater\t\twarned\t\tover\t\t750\t\t,\t\t000\t\tcustomers\t\ttheir\t\tpersonal\t\tinformation\t\twas\t\texposed\t\tin\t\ta\t\tdata\t\tbreach\t\t.\t\tRa\t\t##nso\t\t##m\t\t##H\t\t##ub\t\t'\t\ts\t\tdata\t\tleak\t\tsite\t\talso\t\tleaked\t\tstolen\t\tChange\t\tHealthcare\t\tdata\t\tafter\t\tthe\t\tBlack\t\t##C\t\t##at\t\t/\t\tAL\t\t##P\t\t##H\t\t##V\t\transom\t\t##ware\t\toperation\t\tshut\t\tdown\t\t.\t\tA\t\tjoint\t\tadvisory\t\treleased\t\ttoday\t\tby\t\tthe\t\tFBI\t\t,\t\tC\t\t##IS\t\t##A\t\t,\t\tthe\t\tMulti\t\t-\t\tState\t\tInformation\t\tS\t\t##hari\t\t##ng\t\tand\t\tAnalysis\t\tCenter\t\t(\t\tMS\t\t-\t\tIS\t\t##AC\t\t)\t\t,\t\tand\t\tthe\t\tDepartment\t\tof\t\tHealth\t\tand\t\tHuman\t\tServices\t\t(\t\tH\t\t##HS\t\t)\t\talso\t\tconfirms\t\tthat\t\tthe\t\tthreat\t\tactors\t\ttarget\t\ttheir\t\tvictims\t\tin\t\tdouble\t\t-\t\tex\t\t##tor\t\t##tion\t\tattacks\t\t.\t\tThe\t\tfederal\t\tagencies\t\tsaid\t\tRa\t\t##nso\t\t##m\t\t##H\t\t##ub\t\t(\t\tformerly\t\tknown\t\tas\t\tCy\t\t##c\t\t##lops\t\tand\t\tKnight\t\t)\t\t\"\t\thas\t\testablished\t\titself\t\tas\t\tan\t\tefficient\t\tand\t\tsuccessful\t\tservice\t\tmodel\t\t(\t\trecently\t\tattracting\t\thigh\t\t-\t\tprofile\t\taffiliates\t\tfrom\t\tother\t\tprominent\t\tvariants\t\tsuch\t\tas\t\tLock\t\t##B\t\t##it\t\tand\t\tAL\t\t##P\t\t##H\t\t##V\t\t)\t\t.\t\t\"\t\t\"\t\tSince\t\tits\t\tinception\t\tin\t\tFebruary\t\t202\t\t##4\t\t,\t\tRa\t\t##nso\t\t##m\t\t##H\t\t##ub\t\thas\t\ten\t\t##c\t\t##ry\t\t##pted\t\tand\t\tex\t\t##fi\t\t##lt\t\t##rated\t\tdata\t\tfrom\t\tat\t\tleast\t\t210\t\tvictims\t\trepresenting\t\tthe\t\twater\t\tand\t\twaste\t\t##water\t\t,\t\tinformation\t\ttechnology\t\t,\t\tgovernment\t\tservices\t\tand\t\tfacilities\t\t,\t\thealthcare\t\tand\t\tpublic\t\thealth\t\t,\t\temergency\t\tservices\t\t,\t\tfood\t\tand\t\tagriculture\t\t,\t\tfinancial\t\tservices\t\t,\t\tcommercial\t\tfacilities\t\t,\t\tcritical\t\tmanufacturing\t\t,\t\ttransportation\t\t,\t\tand\t\tcommunications\t\tcritical\t\tinfrastructure\t\tsectors\t\t,\t\t\"\t\tthe\t\tadvisory\t\tadds\t\t.\t\tThe\t\tfour\t\tauthor\t\t##ing\t\tagencies\t\tadvised\t\tnetwork\t\tdefenders\t\tto\t\timplement\t\tthe\t\trecommendations\t\tin\t\ttoday\t\t'\t\ts\t\tadvisory\t\tto\t\treduce\t\tthe\t\trisk\t\tand\t\timpact\t\tof\t\tRa\t\t##nso\t\t##m\t\t##H\t\t##ub\t\transom\t\t##ware\t\tattacks\t\t.\t\tThey\t\tshould\t\tfocus\t\ton\t\tpatch\t\t##ing\t\tv\t\t##ul\t\t##ner\t\t##abi\t\t##lities\t\talready\t\texploited\t\tin\t\tthe\t\twild\t\tand\t\tuse\t\tstrong\t\tpassword\t\t##s\t\tand\t\tmulti\t\t##fa\t\t##ctor\t\tauthentic\t\t##ation\t\t(\t\tM\t\t##FA\t\t)\t\tfor\t\tweb\t\t##mail\t\t,\t\tVP\t\t##N\t\t,\t\tand\t\taccounts\t\tlinked\t\tto\t\tcritical\t\tsystems\t\t.\t\tIt\t\t'\t\ts\t\talso\t\trecommended\t\tto\t\tkeep\t\tsoftware\t\tupdated\t\t[SEP]\n",
      "Gold Labels:        O\t\tO\t\tO\t\tO\t\tO\t\tO\t\tO\t\tO\t\tO\t\tO\t\tB-ORG\t\tI-ORG\t\tI-ORG\t\tI-ORG\t\tO\t\tO\t\tO\t\tO\t\tO\t\tO\t\tO\t\tO\t\tO\t\tO\t\tO\t\tO\t\tO\t\tO\t\tO\t\tO\t\tB-LOC\t\tI-LOC\t\tI-LOC\t\tO\t\tO\t\tO\t\tO\t\tO\t\tO\t\tO\t\tB-MISC\t\tI-MISC\t\tI-MISC\t\tI-MISC\t\tI-MISC\t\tI-MISC\t\tI-MISC\t\tI-MISC\t\tI-MISC\t\tI-MISC\t\tI-MISC\t\tI-MISC\t\tO\t\tO\t\tO\t\tO\t\tO\t\tO\t\tO\t\tO\t\tO\t\tO\t\tO\t\tO\t\tO\t\tO\t\tO\t\tO\t\tO\t\tO\t\tO\t\tO\t\tO\t\tO\t\tO\t\tO\t\tO\t\tO\t\tO\t\tO\t\tO\t\tO\t\tO\t\tO\t\tO\t\tO\t\tO\t\tO\t\tO\t\tO\t\tO\t\tO\t\tO\t\tO\t\tO\t\tO\t\tO\t\tO\t\tO\t\tO\t\tO\t\tO\t\tO\t\tO\t\tO\t\tO\t\tO\t\tO\t\tO\t\tO\t\tO\t\tO\t\tO\t\tO\t\tO\t\tO\t\tO\t\tO\t\tO\t\tO\t\tO\t\tO\t\tO\t\tO\t\tO\t\tB-ORG\t\tI-ORG\t\tI-ORG\t\tI-ORG\t\tO\t\tO\t\tO\t\tO\t\tO\t\tO\t\tO\t\tO\t\tO\t\tO\t\tO\t\tO\t\tO\t\tO\t\tO\t\tB-ORG\t\tI-ORG\t\tO\t\tO\t\tB-ORG\t\tO\t\tO\t\tO\t\tO\t\tO\t\tO\t\tB-ORG\t\tI-ORG\t\tO\t\tO\t\tO\t\tO\t\tO\t\tO\t\tO\t\tO\t\tO\t\tO\t\tO\t\tO\t\tB-ORG\t\tI-ORG\t\tO\t\tO\t\tO\t\tO\t\tO\t\tB-ORG\t\tI-ORG\t\tI-ORG\t\tI-ORG\t\tO\t\tB-ORG\t\tO\t\tO\t\tO\t\tO\t\tO\t\tO\t\tO\t\tO\t\tO\t\tO\t\tO\t\tO\t\tO\t\tO\t\tO\t\tO\t\tO\t\tO\t\tB-ORG\t\tI-ORG\t\tI-ORG\t\tI-ORG\t\tI-ORG\t\tI-ORG\t\tO\t\tO\t\tO\t\tO\t\tO\t\tO\t\tO\t\tB-ORG\t\tO\t\tO\t\tO\t\tO\t\tB-ORG\t\tI-ORG\t\tI-ORG\t\tO\t\tB-ORG\t\tI-ORG\t\tI-ORG\t\tO\t\tO\t\tO\t\tO\t\tO\t\tO\t\tO\t\tO\t\tO\t\tO\t\tO\t\tO\t\tO\t\tO\t\tB-ORG\t\tO\t\tB-ORG\t\tI-ORG\t\tI-ORG\t\tO\t\tO\t\tB-ORG\t\tI-ORG\t\tI-ORG\t\tI-ORG\t\tI-ORG\t\tI-ORG\t\tI-ORG\t\tI-ORG\t\tI-ORG\t\tI-ORG\t\tI-ORG\t\tI-ORG\t\tI-ORG\t\tI-ORG\t\tI-ORG\t\tI-ORG\t\tO\t\tO\t\tO\t\tB-ORG\t\tI-ORG\t\tI-ORG\t\tI-ORG\t\tI-ORG\t\tI-ORG\t\tI-ORG\t\tI-ORG\t\tI-ORG\t\tO\t\tO\t\tO\t\tO\t\tO\t\tB-MISC\t\tI-MISC\t\tI-MISC\t\tI-MISC\t\tI-MISC\t\tI-MISC\t\tI-MISC\t\tI-MISC\t\tI-MISC\t\tI-MISC\t\tI-MISC\t\tI-MISC\t\tO\t\tO\t\tO\t\tO\t\tO\t\tB-ORG\t\tI-ORG\t\tI-ORG\t\tI-ORG\t\tO\t\tO\t\tO\t\tO\t\tO\t\tB-ORG\t\tI-ORG\t\tO\t\tO\t\tB-ORG\t\tO\t\tO\t\tO\t\tO\t\tO\t\tO\t\tO\t\tO\t\tO\t\tO\t\tO\t\tO\t\tO\t\tO\t\tO\t\tO\t\tO\t\tO\t\tO\t\tO\t\tO\t\tO\t\tO\t\tO\t\tO\t\tB-ORG\t\tI-ORG\t\tO\t\tO\t\tB-ORG\t\tI-ORG\t\tI-ORG\t\tI-ORG\t\tO\t\tO\t\tO\t\tO\t\tO\t\tO\t\tO\t\tO\t\tO\t\tO\t\tO\t\tO\t\tB-ORG\t\tI-ORG\t\tI-ORG\t\tI-ORG\t\tO\t\tO\t\tO\t\tO\t\tO\t\tO\t\tO\t\tO\t\tO\t\tO\t\tO\t\tO\t\tO\t\tO\t\tO\t\tO\t\tO\t\tO\t\tO\t\tO\t\tO\t\tO\t\tO\t\tO\t\tO\t\tO\t\tO\t\tO\t\tO\t\tO\t\tO\t\tO\t\tO\t\tO\t\tO\t\tO\t\tO\t\tO\t\tO\t\tO\t\tO\t\tO\t\tO\t\tO\t\tO\t\tO\t\tO\t\tO\t\tO\t\tO\t\tO\t\tO\t\tO\t\tO\t\tO\t\tO\t\tO\t\tO\t\tO\t\tO\t\tO\t\tO\t\tO\t\tO\t\tO\t\tO\t\tO\t\tO\t\tO\t\tO\t\tO\t\tO\t\tO\t\tO\t\tO\t\tO\t\tO\t\tO\t\tO\t\tO\t\tO\t\tO\t\tO\t\tO\t\tO\t\tO\t\tO\t\tO\t\tO\t\tO\t\tB-ORG\t\tI-ORG\t\tI-ORG\t\tI-ORG\t\tO\t\tO\t\tO\t\tO\t\tO\t\tO\t\tO\t\tO\t\tO\t\tO\t\tO\t\tO\t\tO\t\tO\t\tO\t\tO\t\tO\t\tO\t\tO\t\tO\t\tO\t\tO\t\tO\t\tO\t\tO\t\tO\t\tO\t\tO\t\tO\t\tO\t\tO\t\tO\t\tO\t\tO\t\tO\t\tO\t\tO\t\tO\t\tO\t\tO\t\tO\t\tO\t\tO\t\tO\t\tO\t\tO\t\tO\t\tO\t\tO\t\tO\t\tO\t\tO\t\tO\t\tO\t\tO\t\tO\t\tO\t\tO\t\tO\n",
      "Predicted Labels:   O\t\tO\t\tO\t\tO\t\tO\t\tO\t\tO\t\tO\t\tO\t\tO\t\tO\t\tO\t\tO\t\tO\t\tO\t\tO\t\tO\t\tO\t\tO\t\tO\t\tO\t\tO\t\tO\t\tO\t\tO\t\tO\t\tO\t\tO\t\tO\t\tO\t\tO\t\tO\t\tO\t\tO\t\tO\t\tO\t\tO\t\tO\t\tO\t\tO\t\tO\t\tO\t\tO\t\tO\t\tO\t\tO\t\tO\t\tO\t\tO\t\tO\t\tO\t\tEvent\t\tO\t\tO\t\tO\t\tO\t\tO\t\tO\t\tO\t\tO\t\tO\t\tO\t\tO\t\tEvent\t\tO\t\tO\t\tO\t\tO\t\tO\t\tO\t\tO\t\tO\t\tO\t\tO\t\tO\t\tO\t\tO\t\tO\t\tO\t\tO\t\tO\t\tO\t\tO\t\tO\t\tO\t\tEvent\t\tO\t\tO\t\tO\t\tO\t\tO\t\tO\t\tO\t\tO\t\tO\t\tO\t\tO\t\tO\t\tO\t\tO\t\tEvent\t\tO\t\tO\t\tO\t\tO\t\tO\t\tO\t\tO\t\tO\t\tO\t\tO\t\tO\t\tO\t\tO\t\tO\t\tO\t\tO\t\tO\t\tO\t\tO\t\tO\t\tO\t\tO\t\tO\t\tO\t\tO\t\tO\t\tO\t\tO\t\tO\t\tO\t\tO\t\tO\t\tO\t\tO\t\tO\t\tO\t\tO\t\tO\t\tO\t\tO\t\tO\t\tO\t\tO\t\tO\t\tO\t\tO\t\tO\t\tORG\t\tO\t\tO\t\tO\t\tO\t\tO\t\tO\t\tO\t\tO\t\tO\t\tO\t\tO\t\tO\t\tO\t\tO\t\tO\t\tO\t\tO\t\tO\t\tO\t\tO\t\tO\t\tO\t\tO\t\tO\t\tO\t\tO\t\tO\t\tO\t\tO\t\tO\t\tO\t\tO\t\tO\t\tO\t\tO\t\tO\t\tO\t\tO\t\tO\t\tO\t\tO\t\tO\t\tO\t\tO\t\tO\t\tO\t\tO\t\tO\t\tO\t\tO\t\tO\t\tO\t\tO\t\tO\t\tO\t\tO\t\tO\t\tO\t\tO\t\tO\t\tO\t\tO\t\tO\t\tSoftware\t\tORG\t\tO\t\tO\t\tO\t\tO\t\tO\t\tO\t\tO\t\tO\t\tO\t\tO\t\tO\t\tO\t\tO\t\tO\t\tO\t\tO\t\tO\t\tO\t\tO\t\tO\t\tO\t\tO\t\tO\t\tO\t\tORG\t\tO\t\tO\t\tO\t\tO\t\tO\t\tO\t\tO\t\tO\t\tO\t\tO\t\tO\t\tO\t\tO\t\tO\t\tO\t\tO\t\tO\t\tO\t\tO\t\tO\t\tO\t\tEvent\t\tO\t\tO\t\tO\t\tO\t\tO\t\tO\t\tO\t\tO\t\tO\t\tO\t\tO\t\tO\t\tEvent\t\tO\t\tO\t\tO\t\tO\t\tO\t\tO\t\tO\t\tO\t\tO\t\tO\t\tO\t\tO\t\tO\t\tO\t\tO\t\tO\t\tO\t\tO\t\tO\t\tO\t\tO\t\tO\t\tO\t\tO\t\tO\t\tO\t\tO\t\tO\t\tO\t\tO\t\tO\t\tO\t\tO\t\tO\t\tO\t\tEvent\t\tO\t\tO\t\tO\t\tO\t\tO\t\tO\t\tO\t\tO\t\tO\t\tO\t\tO\t\tO\t\tO\t\tO\t\tO\t\tO\t\tO\t\tO\t\tO\t\tO\t\tO\t\tO\t\tO\t\tO\t\tO\t\tO\t\tO\t\tO\t\tO\t\tO\t\tO\t\tO\t\tEvent\t\tO\t\tO\t\tO\t\tO\t\tO\t\tO\t\tO\t\tO\t\tO\t\tO\t\tO\t\tO\t\tO\t\tO\t\tO\t\tO\t\tO\t\tO\t\tO\t\tO\t\tO\t\tO\t\tO\t\tO\t\tO\t\tO\t\tO\t\tO\t\tO\t\tO\t\tO\t\tO\t\tO\t\tO\t\tO\t\tO\t\tO\t\tO\t\tO\t\tO\t\tO\t\tO\t\tO\t\tO\t\tO\t\tO\t\tO\t\tO\t\tO\t\tO\t\tO\t\tO\t\tO\t\tO\t\tO\t\tO\t\tO\t\tO\t\tO\t\tO\t\tO\t\tO\t\tO\t\tO\t\tO\t\tO\t\tO\t\tO\t\tO\t\tO\t\tO\t\tO\t\tO\t\tO\t\tO\t\tO\t\tO\t\tO\t\tO\t\tO\t\tO\t\tO\t\tO\t\tO\t\tO\t\tO\t\tO\t\tO\t\tO\t\tO\t\tO\t\tO\t\tO\t\tO\t\tO\t\tO\t\tO\t\tO\t\tO\t\tO\t\tO\t\tO\t\tO\t\tO\t\tO\t\tO\t\tO\t\tO\t\tO\t\tO\t\tO\t\tO\t\tO\t\tO\t\tO\t\tO\t\tO\t\tO\t\tO\t\tO\t\tO\t\tO\t\tO\t\tO\t\tO\t\tO\t\tO\t\tO\t\tO\t\tO\t\tO\t\tO\t\tO\t\tO\t\tO\t\tO\t\tO\t\tO\t\tO\t\tO\t\tO\t\tO\t\tO\t\tO\t\tEvent\t\tO\t\tO\t\tO\t\tO\t\tO\t\tO\t\tO\t\tO\t\tO\t\tO\t\tO\t\tO\t\tO\t\tO\t\tO\t\tO\t\tO\t\tO\t\tO\t\tO\t\tO\t\tO\t\tO\t\tO\n",
      "\n",
      "\n"
     ]
    }
   ],
   "source": [
    "def inspect_predictions(df, num_examples=5):\n",
    "    \"\"\"\n",
    "    Inspect predicted labels, gold labels, and tokens for a sample of examples.\n",
    "    :param df: The dataframe containing 'tokens', 'mapped_gold_labels', and 'mapped_predictions'.\n",
    "    :param num_examples: Number of examples to display.\n",
    "    \"\"\"\n",
    "    for i in range(num_examples):\n",
    "        print(f\"Example {i + 1}:\")\n",
    "        print(\"-\" * 40)\n",
    "        print(\"Tokens:            \", \"\\t\\t\".join(df.loc[i, 'tokens']))\n",
    "        print(\"Gold Labels:       \", \"\\t\\t\".join(df.loc[i, 'mapped_labels']))\n",
    "        print(\"Predicted Labels:  \", \"\\t\\t\".join(df.loc[i, 'predicted_labels']))\n",
    "        print(\"\\n\")\n",
    "\n",
    "# Inspect a few examples\n",
    "inspect_predictions(df, num_examples=5)"
   ]
  },
  {
   "cell_type": "code",
   "execution_count": null,
   "id": "7bc55566",
   "metadata": {},
   "outputs": [],
   "source": []
  }
 ],
 "metadata": {
  "kernelspec": {
   "display_name": "Python 3",
   "language": "python",
   "name": "python3"
  },
  "language_info": {
   "codemirror_mode": {
    "name": "ipython",
    "version": 3
   },
   "file_extension": ".py",
   "mimetype": "text/x-python",
   "name": "python",
   "nbconvert_exporter": "python",
   "pygments_lexer": "ipython3",
   "version": "3.12.8"
  }
 },
 "nbformat": 4,
 "nbformat_minor": 5
}
