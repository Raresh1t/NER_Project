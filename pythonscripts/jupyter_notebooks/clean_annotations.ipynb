{
 "cells": [
  {
   "cell_type": "code",
   "execution_count": 15,
   "id": "1754abd5-f60d-42f2-89f9-ec4568b1b52e",
   "metadata": {},
   "outputs": [],
   "source": [
    "import re\n",
    "import json"
   ]
  },
  {
   "cell_type": "code",
   "execution_count": 16,
   "id": "e3122197-dcd1-47f6-8d6c-9408ead79c31",
   "metadata": {},
   "outputs": [],
   "source": [
    "def normalize_text(text):\n",
    "    \"\"\"\n",
    "    Normalize the text to remove noisy characters and ensure consistency.\n",
    "    \"\"\"\n",
    "    # Replace newline characters with a space\n",
    "    text = text.replace(\"\\n\", \" \")\n",
    "\n",
    "    # Replace Unicode non-breaking spaces with regular spaces\n",
    "    text = text.replace(\"\\u00a0\", \" \")\n",
    "\n",
    "    # Replace multiple spaces with a single space\n",
    "    text = re.sub(r'\\s+', ' ', text)\n",
    "\n",
    "    # Trim leading and trailing spaces\n",
    "    return text.strip()"
   ]
  },
  {
   "cell_type": "code",
   "execution_count": 17,
   "id": "7bdc5499-5083-45ca-83fe-7270f004fd50",
   "metadata": {},
   "outputs": [],
   "source": [
    "def adjust_entity_offsets(original_text, cleaned_text, entities):\n",
    "    \"\"\"\n",
    "    Adjust entity offsets to match the cleaned text.\n",
    "    \"\"\"\n",
    "    original_index = 0\n",
    "    new_index = 0\n",
    "    offset_map = {}\n",
    "    cleaned_text_buffer = []\n",
    "\n",
    "    for char in original_text:\n",
    "        if char in [\"\\n\", \"\\u00a0\"]:  # Replace specific characters\n",
    "            char = \" \"\n",
    "        if char.isspace() and (not cleaned_text_buffer or cleaned_text_buffer[-1] == \" \"):  # Avoid multiple spaces\n",
    "            original_index += 1\n",
    "            continue\n",
    "\n",
    "        cleaned_text_buffer.append(char)\n",
    "        offset_map[original_index] = new_index\n",
    "        original_index += 1\n",
    "        new_index += 1\n",
    "\n",
    "    # Adjust entity offsets based on the mapping\n",
    "    adjusted_entities = []\n",
    "    for entity in entities:\n",
    "        adjusted_start = offset_map.get(entity['start'], None)\n",
    "        adjusted_end = offset_map.get(entity['end'], None)\n",
    "        if adjusted_start is not None and adjusted_end is not None:\n",
    "            # Extract the text based on adjusted offsets\n",
    "            adjusted_text = cleaned_text[adjusted_start:adjusted_end]\n",
    "            # Validate adjusted text with original entity text\n",
    "            if entity['text'].strip() in adjusted_text or adjusted_text in entity['text'].strip():\n",
    "                adjusted_entities.append({\n",
    "                    'start': adjusted_start,\n",
    "                    'end': adjusted_end,\n",
    "                    'type': entity['type'],\n",
    "                    'text': adjusted_text\n",
    "                })\n",
    "            else:\n",
    "                # Fallback to the original entity text if mismatch occurs\n",
    "                adjusted_entities.append({\n",
    "                    'start': adjusted_start,\n",
    "                    'end': adjusted_end,\n",
    "                    'type': entity['type'],\n",
    "                    'text': entity['text']\n",
    "                })\n",
    "    return adjusted_entities"
   ]
  },
  {
   "cell_type": "code",
   "execution_count": 18,
   "id": "ec56c265-c529-4821-922a-8684cb0ee621",
   "metadata": {
    "scrolled": true
   },
   "outputs": [],
   "source": [
    "def clean_and_process_json(input_path, output_path):\n",
    "    \"\"\"\n",
    "    Load, clean, and save the normalized JSON data.\n",
    "    \"\"\"\n",
    "    with open(input_path, 'r', encoding='utf-8') as file:\n",
    "        data = json.load(file)\n",
    "\n",
    "    for item in data:\n",
    "        for annotation in item['annotations']:\n",
    "            raw_text = annotation.get('text', '')\n",
    "            entities = [result['value'] for result in annotation['result']]\n",
    "\n",
    "            # Normalize text\n",
    "            cleaned_text = normalize_text(raw_text)\n",
    "\n",
    "            # Adjust entity offsets\n",
    "            annotation['text'] = cleaned_text\n",
    "            annotation['result'] = adjust_entity_offsets(raw_text, cleaned_text, entities)\n",
    "\n",
    "    # Save the cleaned data\n",
    "    with open(output_path, 'w', encoding='utf-8') as file:\n",
    "        json.dump(data, file, indent=4, ensure_ascii=False)"
   ]
  },
  {
   "cell_type": "code",
   "execution_count": 19,
   "id": "751b1371-4fc9-4bfb-a065-b0b835cb524e",
   "metadata": {},
   "outputs": [
    {
     "name": "stdout",
     "output_type": "stream",
     "text": [
      "Cleaned and normalized JSON saved to ../Labeled_data/gold_labels/cleaned_annotations.json\n"
     ]
    }
   ],
   "source": [
    "input_json_path = '../Labeled_data/gold_labels/filtered_annotations.json'\n",
    "output_json_path = '../Labeled_data/gold_labels/cleaned_annotations.json'\n",
    "\n",
    "# Process the JSON file\n",
    "clean_and_process_json(input_json_path, output_json_path)\n",
    "\n",
    "print(f\"Cleaned and normalized JSON saved to {output_json_path}\")"
   ]
  },
  {
   "cell_type": "code",
   "execution_count": null,
   "id": "60399869-e569-484e-bf12-319c2e7eb08a",
   "metadata": {},
   "outputs": [],
   "source": []
  }
 ],
 "metadata": {
  "kernelspec": {
   "display_name": "Python 3 (ipykernel)",
   "language": "python",
   "name": "python3"
  },
  "language_info": {
   "codemirror_mode": {
    "name": "ipython",
    "version": 3
   },
   "file_extension": ".py",
   "mimetype": "text/x-python",
   "name": "python",
   "nbconvert_exporter": "python",
   "pygments_lexer": "ipython3",
   "version": "3.11.4"
  }
 },
 "nbformat": 4,
 "nbformat_minor": 5
}
