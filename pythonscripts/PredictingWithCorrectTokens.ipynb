{
 "cells": [
  {
   "cell_type": "code",
   "execution_count": null,
   "id": "bb480164-792b-4dbc-805a-144909bfb1c0",
   "metadata": {},
   "outputs": [
    {
     "name": "stdout",
     "output_type": "stream",
     "text": [
      "Requirement already satisfied: scikit-learn in c:\\users\\magnu\\appdata\\local\\programs\\python\\python311\\lib\\site-packages (1.6.1)\n",
      "Requirement already satisfied: numpy>=1.19.5 in c:\\users\\magnu\\appdata\\local\\programs\\python\\python311\\lib\\site-packages (from scikit-learn) (2.1.3)\n",
      "Requirement already satisfied: scipy>=1.6.0 in c:\\users\\magnu\\appdata\\local\\programs\\python\\python311\\lib\\site-packages (from scikit-learn) (1.15.1)\n",
      "Requirement already satisfied: joblib>=1.2.0 in c:\\users\\magnu\\appdata\\local\\programs\\python\\python311\\lib\\site-packages (from scikit-learn) (1.4.2)\n",
      "Requirement already satisfied: threadpoolctl>=3.1.0 in c:\\users\\magnu\\appdata\\local\\programs\\python\\python311\\lib\\site-packages (from scikit-learn) (3.5.0)\n"
     ]
    }
   ],
   "source": [
    "import json\n",
    "import pandas as pd\n",
    "from sklearn.metrics import classification_report\n",
    "from transformers import AutoTokenizer, AutoModelForTokenClassification, pipeline\n",
    "\n",
    "# Load your labeled dataset (gold labels)\n",
    "with open('tokenized_ner_data_3.json', 'r') as f:\n",
    "    data = json.load(f)\n",
    "\n",
    "# Convert to a DataFrame for easier handling\n",
    "df = pd.DataFrame(data)"
   ]
  },
  {
   "cell_type": "code",
   "execution_count": 3,
   "id": "13386a3d-7b37-43a3-82ab-8a140f40544c",
   "metadata": {},
   "outputs": [
    {
     "name": "stderr",
     "output_type": "stream",
     "text": [
      "Some weights of the model checkpoint at dslim/bert-base-NER were not used when initializing BertForTokenClassification: ['bert.pooler.dense.bias', 'bert.pooler.dense.weight']\n",
      "- This IS expected if you are initializing BertForTokenClassification from the checkpoint of a model trained on another task or with another architecture (e.g. initializing a BertForSequenceClassification model from a BertForPreTraining model).\n",
      "- This IS NOT expected if you are initializing BertForTokenClassification from the checkpoint of a model that you expect to be exactly identical (initializing a BertForSequenceClassification model from a BertForSequenceClassification model).\n"
     ]
    }
   ],
   "source": [
    "# Load the pre-trained NER model and tokenizer\n",
    "model_name = \"dslim/bert-base-NER\"\n",
    "tokenizer = AutoTokenizer.from_pretrained(model_name)\n",
    "model = AutoModelForTokenClassification.from_pretrained(model_name)\n",
    "\n",
    "# Create a pipeline for NER\n",
    "ner_pipeline = pipeline(\"ner\", model=model, tokenizer=tokenizer)"
   ]
  },
  {
   "cell_type": "code",
   "execution_count": 4,
   "id": "1d2187d4-3747-4652-89b8-cc28983ff3d0",
   "metadata": {},
   "outputs": [],
   "source": [
    "label_mapping = {\n",
    "    'MAL-ORG': 'I-ORG',  # Map MAL-ORG to I-ORG\n",
    "    'ORG': 'I-ORG',       # Map ORG to I-ORG\n",
    "    'PER': 'I-PER',       # Map PERSON entities to I-PER\n",
    "    'LOC': 'I-LOC',       # Map LOCATION entities to I-LOC\n",
    "    'Event': 'I-MISC',    # Map Event-related entities to I-MISC\n",
    "    'Software': 'I-MISC', # Map Software-related entities to I-MISC\n",
    "    'CVE': 'I-MISC',      # Map CVE to I-MISC\n",
    "    'Malware': 'I-MISC',  # Map Malware to I-MISC\n",
    "    'MISC': 'I-MISC'      # General MISC category to I-MISC\n",
    "}"
   ]
  },
  {
   "cell_type": "code",
   "execution_count": 5,
   "id": "c4ff4e9c-1819-47ee-8657-b4cd71ae5ffe",
   "metadata": {},
   "outputs": [],
   "source": [
    "def map_labels(labels, label_mapping):\n",
    "    \"\"\"\n",
    "    Map domain-specific labels to generic labels using the provided mapping.\n",
    "    \"\"\"\n",
    "    mapped_labels = []\n",
    "    for label in labels:\n",
    "        if label == \"O\":  # Keep \"O\" as is\n",
    "            mapped_labels.append(label)\n",
    "        else:\n",
    "            # Extract the prefix (B- or I-) and the entity type\n",
    "            prefix = label[:2]  # \"B-\" or \"I-\"\n",
    "            entity_type = label[2:]  # The rest of the label\n",
    "\n",
    "            # Map the entity type using the mapping\n",
    "            mapped_entity = label_mapping.get(entity_type, \"O\")  # Default to \"O\" if not in mapping\n",
    "\n",
    "            # Combine the prefix with the mapped entity type only once\n",
    "            mapped_labels.append(f\"{prefix}{mapped_entity.lstrip('B-').lstrip('I-')}\")\n",
    "    return mapped_labels"
   ]
  },
  {
   "cell_type": "code",
   "execution_count": 6,
   "id": "c6cb3208-6e18-4875-9735-94e0cba0a3f3",
   "metadata": {},
   "outputs": [],
   "source": [
    "# Predict labels for each text in the dataset\n",
    "def predict_labels(tokens):\n",
    "    # Decode tokens to reconstruct the original text\n",
    "    text = tokenizer.decode(tokenizer.convert_tokens_to_ids(tokens), skip_special_tokens=True)\n",
    "    \n",
    "    # Get model predictions using the NER pipeline\n",
    "    predictions = ner_pipeline(text)\n",
    "    \n",
    "    # Initialize the predicted labels with \"O\"\n",
    "    predicted_labels = [\"O\"] * len(tokens)\n",
    "    \n",
    "    for pred in predictions:\n",
    "        pred_text = pred['word']\n",
    "        pred_start, pred_end = pred['start'], pred['end']\n",
    "        \n",
    "        # Encode the predicted text to match token positions\n",
    "        encoded_pred = tokenizer.encode(pred_text, add_special_tokens=False)\n",
    "        \n",
    "        # Match the predicted span with tokens\n",
    "        for i, token_id in enumerate(tokenizer.convert_tokens_to_ids(tokens)):\n",
    "            token_start = text.find(tokenizer.decode([token_id], skip_special_tokens=True), pred_start)\n",
    "            token_end = token_start + len(tokenizer.decode([token_id], skip_special_tokens=True))\n",
    "            \n",
    "            if token_start == pred_start and token_end == pred_end:\n",
    "                predicted_labels[i] = pred['entity']\n",
    "    \n",
    "    return predicted_labels\n",
    "\n",
    "# Apply predictions to each row\n",
    "df['predicted_labels'] = df['tokens'].apply(predict_labels)"
   ]
  },
  {
   "cell_type": "code",
   "execution_count": 7,
   "id": "632a7911-ec5c-4949-b7c9-d5be72a544e8",
   "metadata": {},
   "outputs": [],
   "source": [
    "# Apply the label mapping to the gold labels\n",
    "df['mapped_labels'] = df['labels'].apply(lambda x: map_labels(x, label_mapping))"
   ]
  },
  {
   "cell_type": "code",
   "execution_count": 8,
   "id": "dcb70310-0804-4734-9d89-a69c3a271b13",
   "metadata": {},
   "outputs": [
    {
     "name": "stdout",
     "output_type": "stream",
     "text": [
      "              precision    recall  f1-score   support\n",
      "\n",
      "       B-LOC       0.03      0.03      0.03       134\n",
      "      B-MISC       0.04      0.04      0.04       456\n",
      "       B-ORG       0.06      0.08      0.06       653\n",
      "       B-PER       0.10      0.15      0.12        80\n",
      "       I-LOC       0.09      0.24      0.13       104\n",
      "      I-MISC       0.23      0.03      0.05      1791\n",
      "       I-ORG       0.26      0.16      0.19      1374\n",
      "       I-PER       0.30      0.16      0.21       216\n",
      "           O       0.86      0.92      0.89     26071\n",
      "\n",
      "    accuracy                           0.79     30879\n",
      "   macro avg       0.22      0.20      0.19     30879\n",
      "weighted avg       0.76      0.79      0.77     30879\n",
      "\n"
     ]
    }
   ],
   "source": [
    "# Flatten gold labels and predictions for evaluation\n",
    "all_gold = [label for labels in df['mapped_labels'] for label in labels]\n",
    "all_pred = [pred for preds in df['predicted_labels'] for pred in preds]\n",
    "\n",
    "# Generate a classification report\n",
    "print(classification_report(all_gold, all_pred))"
   ]
  },
  {
   "cell_type": "code",
   "execution_count": 9,
   "id": "0bbdbf69-727c-44c2-b6f9-af71e04cbb48",
   "metadata": {},
   "outputs": [
    {
     "name": "stdout",
     "output_type": "stream",
     "text": [
      "Example 1:\n",
      "----------------------------------------\n",
      "Tokens:             [CLS] A new ransom ##ware - as - a - service ( Ra ##a ##S ) operation named C ##ica ##da ##33 ##01 has already listed 19 victims on its ex ##tor ##tion portal , as it quickly attacked companies worldwide . The new c ##y ##ber ##c ##rim ##e operation is named after the mysterious 2012 - 2014 online / real - world game that involved elaborate cry ##pt ##ographic puzzles and used the same logo for promotion on c ##y ##ber ##c ##rim ##e forums . However , there ' s no connection between the two , and the legitimate project has issued a statement to re ##nounce any association and con ##de ##m ##n the ransom ##ware operators ' actions . The C ##ica ##da ##33 ##01 Ra ##a ##S first began promoting the operation and recruiting affiliates on June 29 , 202 ##4 , in a forum post to the ransom ##ware and c ##y ##ber ##c ##rim ##e forum known as RAM ##P . However , B ##lee ##ping ##C ##om ##pute ##r is aware of C ##ica ##da attacks as early as June 6 , indicating that the gang was operating independently before attempting to recruit affiliates . Like other ransom ##ware operations , C ##ica ##da ##33 ##01 conducts double - ex ##tor ##tion tactics where they breach corporate networks , steal data , and then en ##c ##ry ##pt devices . The encryption key and threats to leak stolen data are then used as leverage to scare victims into paying a ransom . The threat actors operate a data leak site that is used as part of their double - ex ##tor ##tion scheme . An analysis of the new ma ##l ##ware by True ##se ##c revealed significant overlap ##s between C ##ica ##da ##33 ##01 and AL ##P ##H ##V / Black ##C ##at , indicating a possible re ##brand or a fork created by former AL ##P ##H ##V ' s core team members . This is based on the fact that : For context , AL ##P ##H ##V performed an exit s ##cam in early March 202 ##4 involving fake claims about an FBI take ##down operation after they stole a massive $ 22 million payment from Change Healthcare from one of their affiliates . True ##se ##c has also found indication ##s that the C ##ica ##da ##33 ##01 ransom ##ware operation may partner with or utilize the B ##ru ##tus b ##ot ##net for initial access to corporate networks . That b ##ot ##net was previously associated with global - scale VP ##N br ##ute - forcing activities targeting C ##isco , Fort ##inet , Pa ##lo Alto , and Sonic ##W ##all appliances . It ' s worth noting that the B ##ru ##tus activity was first spotted two weeks after AL ##P ##H ##V shut down operations , so the link between the two groups still stands in terms of timeline ##s . C ##ica ##da ##33 ##01 is a R ##ust - based [SEP]\n",
      "Gold Labels:        O O O O O O O O O O O O O O O O O O B-ORG I-ORG I-ORG I-ORG I-ORG O O O O O O O O O O O O O O O O O O O O O O O O O O O O O O O O O O O O O O O O O O O O O O O O O O O O O O O O O O O O O O O O O O O O O O O O O O O O O O O O O O O O O O O O O O O O O O O O O O O O O O B-ORG I-ORG I-ORG I-ORG I-ORG O O O O O O O O O O O O O O O O O O O O O O O O O O O O O O O O O O O O O O O O O B-ORG I-ORG I-ORG I-ORG I-ORG I-ORG I-ORG O O O B-ORG I-ORG I-ORG O O O O O O O O O O O O O O O O O O O O O O O O O O B-ORG I-ORG I-ORG I-ORG I-ORG B-MISC I-MISC I-MISC I-MISC I-MISC I-MISC I-MISC I-MISC I-MISC I-MISC I-MISC I-MISC I-MISC I-MISC I-MISC I-MISC I-MISC I-MISC I-MISC I-MISC I-MISC I-MISC I-MISC O O O O O O O O O O O O O O O O O O O O O O O O O O O O O O O O O O O O O O O O O O O O O O O O O O O O O O B-ORG I-ORG I-ORG O O O O O B-ORG I-ORG I-ORG I-ORG I-ORG O B-ORG I-ORG I-ORG I-ORG O B-ORG I-ORG I-ORG O O O O O O O O O O O O B-ORG I-ORG I-ORG I-ORG I-ORG I-ORG O O O O O O O O O O O O O O O B-ORG I-ORG I-ORG I-ORG O O O O O O O O O O O O O O O B-ORG O O O O O O O O O O O O O B-ORG I-ORG O O O O O O B-ORG I-ORG I-ORG O O O O O O O B-ORG I-ORG I-ORG I-ORG I-ORG O O O O O O O O O B-MISC I-MISC I-MISC I-MISC I-MISC I-MISC O O O O O O O O O O O O O O O O O O O O O O O O O O B-ORG I-ORG O B-ORG I-ORG O B-ORG I-ORG I-ORG O O B-ORG I-ORG I-ORG O O O O O O O O O B-ORG I-ORG I-ORG O O O O O O O B-ORG I-ORG I-ORG I-ORG O O O O O O O O O O O O O O O O O O O B-ORG I-ORG I-ORG I-ORG I-ORG O O O O O O O\n",
      "Predicted Labels:   O O O O O O O O O O O O O O O O O O B-ORG O O O O O O O O O O O O O O O O O O O O O O O O O I-ORG O O O O O O O O O O O O O O O O O O O O O O O O O O O O O O O O O O O I-ORG O O O O O O O O O O O O O O O O O O O O O O O O O O O O O O O O O O O O O O O O O O O O B-ORG O O O O O O O O O O O O O O O O O O O O O O O O O O O O O O O I-ORG O O O O O O O O B-ORG O O O O B-ORG O O O O O O O O O B-ORG O O O O O O O O O O O O O O O O O O O O O O O O O O O O B-ORG O O O O O O O O O O O O O O O O O O O O O O O O O O O O O O O O O O O O O O O O O O O O O O O O O O O O O O O O O O O O O O O O O O O O O O O O O O O O O O O O O B-ORG O O O O O O O B-ORG O O O O O B-ORG O O O O B-ORG O O O O O O O O O O O O O O B-ORG O O O O O O O O O O O O O O O O O O O O B-ORG O O O O O O O O O O O O O O O O O O B-ORG O O O O O O O O O O O O O B-ORG I-ORG O O O O O O B-ORG O O O O O O O O O B-ORG O O O O O O O O O O O O O B-ORG O O O O O O O O O O O O O O O O O O O O O O O O O O O O O O O B-ORG O O O O O O O O O O O O O O O O O O O O O O B-ORG O O O O O O O O O B-ORG O O O O O O O O O O O O O O O O O O O O O O B-ORG O O O O O O O O O O O\n",
      "\n",
      "\n",
      "Example 2:\n",
      "----------------------------------------\n",
      "Tokens:             [CLS] The popular Dock ##er - OS ##X project has been removed from Dock ##er Hu ##b after Apple filed a D ##MCA ( Digital Millennium Copyright Act ) take ##down request , alleging that it violated its copyright . Dock ##er - OS ##X is an open - source project created by security researcher Sick . Code ##s that allows for the virtual ##ization of mac ##OS on non - Apple hardware . It can be hosted on any system that supports Dock ##er , including Linux and Windows . The project is useful for developers who need to test software on mac ##OS or security researchers trying out various configurations to un ##cover bugs or to research ma ##l ##ware . Its popularity is reflected in its 750 , 000 downloads and 500 stars on Dock ##er Hu ##b , as well as its 40 , 000 stars on G ##it ##H ##ub . On Wednesday , Dock ##er - OS ##X users reported that they were unable to pull the latest mac ##OS images from the Dock ##er Hu ##b re ##pository , getting 404 errors . \" dock ##er : E ##rro ##r response from da ##emon : pull access denied for sick ##codes / dock ##er - o ##s ##x , re ##pository does not exist or may require ' dock ##er log ##in ' : denied : requested access to the resource is denied , \" read an error message when a user tried to install the image . After other users reported a similar issue access ##ing the Dock ##er image , the developer , Sick . Code ##s , replied that it was gone from their account and have received no information as to why . After posting about the removal on X , Dock ##er confirmed it with Sick . Code ##s that the image was removed after they received a D ##MCA take ##down request from Apple . In the D ##MCA request sent to Sick . Code ##s and shared with B ##lee ##ping ##C ##om ##pute ##r , a law firm representing Apple asserted that the \" dock ##er - o ##s ##x \" re ##pository contains images of Apple ' s mac ##OS install ##er , which are protected by copyright . The notice s ##pec ##ifies that Dock ##er - OS ##X reproduce ##s Apple ' s content without authorization , which constitutes copyright infringement under U . S . law , and requests that Dock ##er act \" ex ##ped ##iti ##ously \" to take down the re ##pository . \" It has come to our attention that images of Apple ' s mac ##OS install ##er and installation have been posted at https : / / hub . dock ##er . com / r / sick ##codes / dock ##er - o ##s ##x , \" reads the D ##MCA infringement not ##ification sent by Apple ' s lawyers at Ki ##l ##patrick , Townsend and Stockton LL ##P . \" Apple has exclusive rights [SEP]\n",
      "Gold Labels:        O O O O B-MISC I-MISC I-MISC I-MISC O O O O O O B-ORG I-ORG I-ORG O O O O O O B-MISC I-MISC I-MISC I-MISC I-MISC I-MISC O O O O O O O O O O O O B-MISC I-MISC I-MISC I-MISC O O O O O O O O O O O B-ORG I-ORG I-ORG O O O O O O O O B-MISC O O O O O O O O O O O O O O O O B-MISC I-MISC O O B-MISC I-MISC I-MISC O O O O O O O O O O O O O B-MISC O O O O O O O O O O O O O O O O O O O O O O O O O O O O O O O O O B-ORG I-ORG I-ORG I-ORG O O O O O O O O O O O B-ORG I-ORG I-ORG O O O O B-MISC I-MISC I-MISC I-MISC O O O O O O O O O O O B-MISC O O O O B-ORG I-ORG I-ORG O O O O O O O O O O O O O O O O O O O O O O O O O O O O O O O O O O O O O O O O O O O O O O O O O O O O O O O O O O O O O O O O O O O O O O O O O O O O O O O O O O O B-ORG O O O O O O B-ORG I-ORG I-ORG I-ORG O O O O O O O O O O O O O O O O O O O O O O O O O O B-ORG O O O O B-ORG I-ORG I-ORG O O O O O O O O O O O O O O O O B-ORG O O O O O O O O B-ORG I-ORG I-ORG O O O O O B-ORG I-ORG I-ORG I-ORG I-ORG I-ORG O O O O O O O O O O O O O O O O O O O O O O B-ORG I-ORG O B-MISC O O O O O O O O O O O O O O O O B-MISC I-MISC I-MISC I-MISC O O O B-ORG I-ORG O O O O O O O O O O O B-MISC I-MISC O O O O O O B-ORG O O O O O O O O O O O O O O O O O O O O O O O O O B-ORG I-ORG O B-MISC O O O O O O O O O O O O O O O O O O O O O O O O O O O O O O O O O O O O O O O O O O B-ORG I-ORG O O O B-ORG I-ORG I-ORG I-ORG I-ORG I-ORG I-ORG I-ORG I-ORG O O O O O O\n",
      "Predicted Labels:   O O O B-ORG O O B-ORG O O O O O O B-ORG O I-LOC O O B-ORG O O B-ORG O O B-MISC I-MISC I-MISC I-MISC O O O O O O O I-ORG O O O O B-ORG O O B-ORG O O O O O O O O O O O B-ORG O O O O O O O O O O B-MISC O O O O B-ORG O O O O O O O O O O O B-ORG O O O B-MISC O B-MISC O O O O O O O O O O O O O B-MISC O O O O O O O O O O O O O O O O O O O O O O O O O O O O O O O O O B-ORG O I-LOC O O O O O O O O O O O B-ORG O O O O O O O B-ORG O O B-ORG O O O O O O O O O O O B-MISC O O O O B-ORG O I-LOC O O O O O O O O O O O O O O O O O O O O O O O O O O O O O O O O O O O O O O O O O O O O O O O O O O O O O O O O O O O O O O O O O O O O O O O O O O O O O O O O O O O B-ORG O O O O O O B-ORG O O O O O O I-ORG O O O O O O O O O O O O O O O O O O O O B-ORG O B-ORG O O I-ORG O B-ORG O O O O O O O O O O O O B-ORG O O O O O B-ORG O O O B-ORG O O O O B-ORG O O O O O O B-ORG O O O O O O O O O O O B-ORG O O O O O O O O O O O O O O O O B-ORG O O B-MISC O O O O O O O O O O O O O O O O B-ORG O O B-ORG O O O B-ORG O O O O O O O O O O O O O O O O O O O O B-ORG O O O O O O O O O O O O O O O O O O O O O O O O O B-ORG O O B-MISC O O O O O O O O O O O O O O O O O O O O I-ORG O O O O O O O O O O O O O O B-ORG O O O O O O B-ORG O O O O O O O O B-ORG O B-ORG B-ORG O O O B-ORG O O O O\n",
      "\n",
      "\n",
      "Example 3:\n",
      "----------------------------------------\n",
      "Tokens:             [CLS] A former core infrastructure engineer at an industrial company headquartered in Somerset County , New Jersey , was arrested after locking Windows ad ##mins out of 254 servers in a failed ex ##tor ##tion plot targeting his employer . According to court documents , company employees received a ransom email titled \" Your Network Has Been Pen ##et ##rated \" on November 25 , around 4 : 44 PM E ##ST . The email claimed that all IT administrators had been locked out of their accounts and server backup ##s had been deleted to make data recovery impossible . Additionally , the message threatened to shut down 40 random servers on the company ' s network daily over the next ten days unless a ransom of € ##70 ##0 , 000 ( in the form of 20 Bit ##co ##in ) was paid — at the time , 20 BT ##C were worth $ 750 , 000 . The investigation coordinated by FBI Special Agent James E . Den ##ne ##hy in Newark uncovered that 57 - year - old Daniel R ##hy ##ne from Kansas City , Missouri , who was working as a core infrastructure engineer for the New Jersey industrial company , had remotely accessed the company ' s computer systems without authorization using a company administrator account between November 9 and November 25 . He then scheduled tasks on the company ' s domain controlled to change the password ##s for the Administrator account , 13 domain administrator accounts , and 301 domain user accounts to the \" The ##F ##r ##0 ##zen ##C ##rew ! \" text string . The criminal complaint all ##ege ##s that R ##hy ##ne also scheduled tasks to change the password ##s for two local administrator accounts , which would impact 254 servers , and for two more local ad ##min accounts , which would affect 3 , 28 ##4 works ##tations on his employer ' s network . He also scheduled some tasks to shut down random servers and works ##tations over multiple days in December 202 ##3 . The investigators also found during forensic analysis that , while planning his ex ##tor ##tion plot , R ##hy ##ne allegedly used a hidden virtual machine he accessed using his account and laptop to search the web on November 22 for information on how to del ##ete domain accounts , clear Windows logs , and change domain user password ##s using the command line . On November 15 , R ##hy ##ne also made similar web searches on his laptop , including \" command line to change local administrator password \" and \" command line to remotely change local administrator password . \" \" By changing administrator and user password ##s and shutting down Vic ##ti ##m - l ' s servers , the scheduled tasks were collectively designed and intended to deny Vic ##ti ##m - 1 access to its systems and data , \" the criminal complaint reads . \" On or about November 25 , 202 ##3 [SEP]\n",
      "Gold Labels:        O O O O O O O O O O O O O B-LOC I-LOC O B-LOC I-LOC O O O O O O O O O O O O O O O O O O O O O O O O O O O O O O O O O O O O O O O O O O O O O O O O O O O O O O O O O O O O O O O O O O O O O O O O O O O O O O O O O O O O O O O O O O O O O O O O O O O O O O O O O O O O O O O O O O O O O O O O O O O O O O O O O O O O O O O O O O O O O O O O O O O O O B-PER I-PER I-PER I-PER I-PER O O O O O O O O O O B-PER I-PER I-PER O O B-LOC I-LOC O B-LOC O O O O O O O O O O O B-LOC O O O O O O O O O O O O O O O O O O O O O O O O O O O O O O O O O O O O O O O O O O O O O O O O O O O O O O O O O O O O O O O O O O O O O O O O O O O O O O O O O B-PER O O O O O O O O O O O O O O O O O O O O O O O O O O O O O O O O O O O O O O O O O O O O O O O O O O O O O O O O O O O O O O O O O O O O O O O O O O O O O O O O O O O O O B-PER O O O O O O O O O O O O O O O O O O O O O O O O O O O O O O O O O O O O O O O O O O O O O O O O O O O B-PER O O O O O O O O O O O O O O O O O O O O O O O O O O O O O O O O O O O O O O O O O O O B-ORG I-ORG I-ORG I-ORG I-ORG I-ORG O O O O O O O O O O O O O B-ORG I-ORG I-ORG I-ORG O O O O O O O O O O O O O O O O O O O O O O O\n",
      "Predicted Labels:   O O O O O O O O O O O O B-LOC I-LOC O B-LOC I-LOC O O O O O B-MISC O O O O O O O O O O O O O O O O I-PER O O O O O O O O O O O O O B-MISC I-MISC O O O O O O O O O O O O O O O I-PER O I-PER O O O O O O O O O O O O O O O O O O O O O O O O O O I-PER O O O O O O O O O O O O O O O O O O O O O O O O O O O O O O O O O O O O O O B-MISC O O O O O O O O O O O B-MISC O O O O O O O I-PER O O O O B-ORG O O B-PER I-PER I-PER I-PER O O O B-LOC O O O O O O O B-PER B-PER O O O B-LOC I-LOC O B-LOC O O O O O O O O O O O B-LOC I-LOC O O O O O O O O O O O O O O O O O O O O O O O O O I-PER O O O O O O O O O O O O O O O O O O O O O O O O O O O O O O O O O O O O O O O O O O O O O I-PER O O O O O O O B-PER O O O O O O O O O O O O O O O O O O O O O O O O O O O O O O O O O O O O O O O O O O O O O O I-PER O O O O O O O O O O O O O O O O O O O O I-PER O O O O O O O O O O O O O O O O O B-PER O O O O O O O O O O O O O O O O O O O O O O O O O O O O O O O O O B-MISC O O O O O O O O O O O O I-PER O O O O B-PER O O O O O O O O O O O O O O O O O O O O O O O O O O O O O O O I-PER O O O O O O O O O O O O B-PER O O O O O O O O O O O O O O O O O O B-PER O O O O O O O O O O O O O O O O I-PER O O O O O O O O O O\n",
      "\n",
      "\n",
      "Example 4:\n",
      "----------------------------------------\n",
      "Tokens:             [CLS] T ##hr ##eat actors target Middle Eastern organizations with ma ##l ##ware disguised as the legitimate Pa ##lo Alto Global ##P ##rote ##ct Too ##l that can steal data and execute remote Power ##S ##hell commands to in ##fi ##lt ##rate internal networks further . Pa ##lo Alto Global ##P ##rote ##ct is a legitimate security solution offered by Pa ##lo Alto Networks that provides secure VP ##N access with multi - factor authentic ##ation support . Organizations widely use the product to ensure remote employees , contractors , and partners can secure ##ly access private network resources . Using Pa ##lo Alto Global ##P ##rote ##ct as bait shows the attackers ' targeting focuses on high - value corporate entities using enterprise software rather than random users . Researchers at T ##ren ##d Micro who discovered this campaign have no insight into how the ma ##l ##ware is delivered , but based on the lure used , they believe the attack starts with a p ##his ##hing email . The victim execute ##s a file named ' setup . ex ##e ' on their system , which deploy ##s a file called ' Global ##P ##rote ##ct . ex ##e ' along with configuration files . At this stage , a window resembling a normal Global ##P ##rote ##ct installation process appears , but the ma ##l ##ware quietly loads on the system in the background . Upon execution , it checks for signs of running on a sand ##box before executing its primary code . Then , it transmit ##s pro ##fi ##ling information about the breach ##ed machine onto the command and control ( C ##2 ) server . As an additional e ##vas ##ion layer , the ma ##l ##ware uses A ##ES encryption on its strings and data packets to be ex ##fi ##lt ##rated to the C ##2 . The C ##2 address seen by T ##ren ##d Micro used a newly registered U ##RL containing the \" s ##har ##jah ##con ##nect \" string , making it appear like a legitimate VP ##N connection portal for S ##har ##jah - based offices in the United Arab Emirates . Considering the campaign ' s targeting scope , this choice helps the threat actors blend with normal operations and reduce red flags that could raise the victim ' s suspicion . Beacon ##s sent out at periodic intervals are employed to communicate the ma ##l ##ware status with the threat actors in the post - infection phase using the Inter ##acts ##h open - source tool . While Inter ##acts ##h is a legitimate open - source tool commonly used by pen ##test ##ers , its related domain , o ##ast . fun , has also been observed in AP ##T - level operations in the past , like in AP ##T ##28 campaigns . However , no at ##tribution was given in this operation using the Pa ##lo Alto product lure . The commands received from the command and control server are : T [SEP]\n",
      "Gold Labels:        O O O O O O O B-LOC O O O O O O O O O O B-ORG I-ORG O B-MISC I-MISC I-MISC I-MISC I-MISC O O O O O O O O B-MISC I-MISC O O O O O O O O O O O B-ORG I-ORG O B-MISC I-MISC I-MISC O O O O O O O O B-ORG I-ORG I-ORG O O O O O O O O O O O O O O O O O O O O O O O O O O O O O O O O O O O O O O B-ORG I-ORG O B-MISC I-MISC I-MISC O O O O O O O O O O O O O O O O O O O O O O O O O O B-ORG I-ORG O O O O O O O O O O O O O O O O O O O O O O O O O O O O O O O O B-MISC I-MISC I-MISC O O O O O O O O O O O O O O O O O O O O O O O O O O O O O O O O O O O O O O O O O O O O O O O B-MISC I-MISC I-MISC O O O O O O O O O O O O O O O O O O O O O O O O O O O O O O O O O O O O O O O O O O O O O O O O O O O O O O O O O O O O O O O O O O O O O O O O O O O O O O O O O O O O O O O O O O O O O O O O O O O O O O O B-ORG I-ORG O O O O O O O O O O O O O O O O O O O O O O O O O O O O O O B-LOC I-LOC O O O O O B-LOC I-LOC I-LOC O O O O O O O O O O O O O O O O O O O O O O O O O O O O O O O O O O O O O O O O O O O O O O O O O O O O O O O O O O O O O O O O O O O O O B-MISC I-MISC O O O O O O O O O O O O O O O O O O O O O O O O O O O O O O O O O O O O O O O O B-ORG I-ORG O O O O O O O O O O O O O O O B-ORG I-ORG O O O O O O O O O O O O O O O O\n",
      "Predicted Labels:   O B-ORG O O O O B-MISC I-MISC O O O O O O O O O B-ORG O I-ORG B-ORG O O O I-ORG O O O O O O O O B-MISC O O O O O O O O O O O O B-ORG O I-ORG B-ORG O O O O O O O O O O B-ORG O I-ORG I-ORG O O O B-MISC O O O O O O O O O O O O O O O O O O O O O O O O O O O O O O O O O B-ORG O I-ORG B-ORG O O O O O O O O O O O O O O O O O O O O O O O O O O O B-ORG O O I-ORG O O O O O O O O O O O O O O O O O O O O O O O O O O O O O O O O O O O O O O O O O O O O O O O O O O O O O O O O O O O B-ORG O O O O O O O O O O O O O O O O O O O O O B-ORG O O O O O O O O O O O O O O O O O O O O O O O O O O O O O O O O O O O O O O O O O O O O O O O O O O O O O O O O O O O O O O O O O O O O O O O O O O O O O O B-MISC O O O O O O O O O O O O O O O O O O O O O O O O O B-ORG O O I-ORG O O O O O O O O O O O O O O O O O O O O O O O B-MISC O O O O B-MISC O O O O O O O B-LOC I-LOC I-LOC O O O O O O O O O O O O O O O O O O O O O O O O O O O O O O O O O O O O O O O O O O O O O O O O O O O O O O O O O O O O O O O O O O O O O O O O O O O O O O O O O O O O O O O O O O O O O O O O O O O O B-ORG O O O O O O O O O O B-ORG O O O O O O O O O O O O O O O O B-ORG O I-ORG O O O O O O O O O O O O O O B-ORG O\n",
      "\n",
      "\n",
      "Example 5:\n",
      "----------------------------------------\n",
      "Tokens:             [CLS] Since surf ##acing in February 202 ##4 , Ra ##nso ##m ##H ##ub ransom ##ware affiliates have breach ##ed over 200 victims from a wide range of critical U . S . infrastructure sectors . This relatively new ransom ##ware - as - a - service ( Ra ##a ##S ) operation ex ##tor ##ts victims in exchange for not leaking stolen files and sells the documents to the highest bid ##der if negotiations fail . The ransom ##ware group focuses on data - theft - based ex ##tor ##tion rather than en ##c ##ry ##pt ##ing victims ' files , although they were also identified as potential buyers of Knight ransom ##ware source code . Since the start of the year , Ra ##nso ##m ##H ##ub has claimed responsibility for breach ##ing American not - for - profit credit union Patel ##co , the Rite Aid drugs ##tore chain , the Christie ' s auction house , U . S . te ##le ##com provider Frontier Communications , and oil services giant Hall ##ib ##urt ##on . Frontier Communications later warned over 750 , 000 customers their personal information was exposed in a data breach . Ra ##nso ##m ##H ##ub ' s data leak site also leaked stolen Change Healthcare data after the Black ##C ##at / AL ##P ##H ##V ransom ##ware operation shut down . A joint advisory released today by the FBI , C ##IS ##A , the Multi - State Information S ##hari ##ng and Analysis Center ( MS - IS ##AC ) , and the Department of Health and Human Services ( H ##HS ) also confirms that the threat actors target their victims in double - ex ##tor ##tion attacks . The federal agencies said Ra ##nso ##m ##H ##ub ( formerly known as Cy ##c ##lops and Knight ) \" has established itself as an efficient and successful service model ( recently attracting high - profile affiliates from other prominent variants such as Lock ##B ##it and AL ##P ##H ##V ) . \" \" Since its inception in February 202 ##4 , Ra ##nso ##m ##H ##ub has en ##c ##ry ##pted and ex ##fi ##lt ##rated data from at least 210 victims representing the water and waste ##water , information technology , government services and facilities , healthcare and public health , emergency services , food and agriculture , financial services , commercial facilities , critical manufacturing , transportation , and communications critical infrastructure sectors , \" the advisory adds . The four author ##ing agencies advised network defenders to implement the recommendations in today ' s advisory to reduce the risk and impact of Ra ##nso ##m ##H ##ub ransom ##ware attacks . They should focus on patch ##ing v ##ul ##ner ##abi ##lities already exploited in the wild and use strong password ##s and multi ##fa ##ctor authentic ##ation ( M ##FA ) for web ##mail , VP ##N , and accounts linked to critical systems . It ' s also recommended to keep software updated [SEP]\n",
      "Gold Labels:        O O O O O O O O O O O B-ORG I-ORG I-ORG O O O O O O O O O O O O O O O O O O B-LOC O O O O O O O B-MISC I-MISC I-MISC I-MISC I-MISC I-MISC I-MISC I-MISC I-MISC I-MISC I-MISC I-MISC O O O O O O O O O O O O O O O O O O O O O O O O O O O O O O O O O O O O O O O O O O O O O O O O O O O O O O O O O O O O O O O O O O O O O O O O O O B-ORG I-ORG I-ORG O O O O O O O O O O O O O O O B-ORG I-ORG O O B-ORG O O O O O O B-ORG I-ORG O O O O O O O O O O O O B-ORG I-ORG O O O O O B-ORG I-ORG I-ORG I-ORG O B-ORG O O O O O O O O O O O O O O O O O O O B-ORG I-ORG I-ORG I-ORG I-ORG O O O O O O O B-ORG O O O O B-ORG I-ORG I-ORG I-ORG O B-ORG I-ORG O O O O O O O O O O O O O O B-ORG I-ORG O B-ORG I-ORG O O B-ORG I-ORG I-ORG I-ORG I-ORG I-ORG I-ORG I-ORG I-ORG I-ORG I-ORG I-ORG I-ORG I-ORG I-ORG I-ORG O O O B-ORG I-ORG I-ORG I-ORG I-ORG I-ORG I-ORG I-ORG I-ORG O O O O O B-MISC I-MISC I-MISC I-MISC I-MISC I-MISC I-MISC I-MISC I-MISC I-MISC I-MISC I-MISC O O O O O O B-ORG I-ORG I-ORG I-ORG O O O O O B-ORG O O B-ORG I-ORG O O O O O O O O O O O O O O O O O O O O O O O O B-ORG I-ORG O O O B-ORG I-ORG I-ORG I-ORG I-ORG O O O O O O O O O O O B-ORG I-ORG I-ORG O O O O O O O O O O O O O O O O O O O O O O O O O O O O O O O O O O O O O O O O O O O O O O O O O O O O O O O O O O O O O O O O O O O O O O O O O O O O O O O O O O O O O O O O O O O B-ORG I-ORG I-ORG O O O O O O O O O O O O O O O O O O O O O O O O O O O O O O O O O O O O O O O O O O O O O O O O O O O O O O O O O O O\n",
      "Predicted Labels:   O O O O O O O O O B-ORG O O O O O O O O O O O O O O O O O I-ORG O B-LOC O I-ORG O O O O O O O O O I-ORG O I-ORG O I-ORG O O B-ORG O O O O O O O O O O O O O O O I-ORG O O O O O O O O O O O O O O O O O I-ORG O I-ORG O I-ORG O O O O O O O O O O O O I-ORG O O O O O O O O O O I-ORG B-ORG O O O O O O O O I-ORG O O O B-ORG O O O O O O O O O O B-MISC O I-ORG O I-ORG O O O B-ORG O O O B-ORG I-ORG O O O O O B-ORG I-ORG I-ORG O O O B-LOC O I-ORG O O O O O B-ORG I-ORG O I-ORG O O O B-ORG O O O O B-ORG I-ORG O O O O O O O O O O O O O O O O O B-ORG O O O O I-ORG I-ORG O O O O O O B-ORG I-ORG O O O B-ORG O O O B-ORG O O O O O O O O O I-ORG O O O O O O B-ORG O B-ORG O O O O B-ORG I-ORG I-ORG I-ORG I-ORG O O I-ORG I-ORG I-ORG O B-ORG I-ORG B-ORG O O O I-ORG O B-ORG I-ORG I-ORG I-ORG I-ORG I-ORG O I-ORG O O O O O O O O O O O O O I-ORG O O O O O O O O O B-ORG O O O O O O O O B-ORG O O I-ORG B-ORG O O O O O O O O I-ORG O O O O O O O I-ORG O O O O O O O O B-ORG O O I-ORG B-ORG O O O O O O O O O O O O O O O B-ORG O O O O O O O O O I-ORG O O O O O O I-ORG O O O O O O I-ORG O O O O O O O O I-ORG O O O I-ORG O O O O O O O I-ORG O O O O O O O O O O O O O I-ORG O O O O O O O O O O O O O O O O O O O O O O O O I-ORG I-ORG O O O O O I-ORG O I-ORG B-ORG O O O O O O O O O O O I-ORG O O O O O O O O O O O O I-ORG O O O O I-ORG O O O O O O O O O O O O O O O O I-ORG O O O O O O O I-ORG I-ORG O O O O O O O\n",
      "\n",
      "\n"
     ]
    }
   ],
   "source": [
    "def inspect_predictions(df, num_examples=5):\n",
    "    \"\"\"\n",
    "    Inspect predicted labels, gold labels, and tokens for a sample of examples.\n",
    "    :param df: The dataframe containing 'tokens', 'mapped_gold_labels', and 'mapped_predictions'.\n",
    "    :param num_examples: Number of examples to display.\n",
    "    \"\"\"\n",
    "    for i in range(num_examples):\n",
    "        print(f\"Example {i + 1}:\")\n",
    "        print(\"-\" * 40)\n",
    "        print(\"Tokens:            \", \" \".join(df.loc[i, 'tokens']))\n",
    "        print(\"Gold Labels:       \", \" \".join(df.loc[i, 'mapped_labels']))\n",
    "        print(\"Predicted Labels:  \", \" \".join(df.loc[i, 'predicted_labels']))\n",
    "        print(\"\\n\")\n",
    "\n",
    "# Inspect a few examples\n",
    "inspect_predictions(df, num_examples=5)"
   ]
  },
  {
   "cell_type": "code",
   "execution_count": null,
   "id": "7bc55566",
   "metadata": {},
   "outputs": [],
   "source": []
  }
 ],
 "metadata": {
  "kernelspec": {
   "display_name": "Python 3",
   "language": "python",
   "name": "python3"
  },
  "language_info": {
   "codemirror_mode": {
    "name": "ipython",
    "version": 3
   },
   "file_extension": ".py",
   "mimetype": "text/x-python",
   "name": "python",
   "nbconvert_exporter": "python",
   "pygments_lexer": "ipython3",
   "version": "3.11.5"
  }
 },
 "nbformat": 4,
 "nbformat_minor": 5
}
