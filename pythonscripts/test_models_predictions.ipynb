{
 "cells": [
  {
   "cell_type": "code",
   "execution_count": 17,
   "metadata": {},
   "outputs": [],
   "source": [
    "from transformers import AutoTokenizer, AutoModelForTokenClassification, pipeline\n",
    "\n",
    "# Load your fine-tuned model and tokenizer\n",
    "model_path = \"best_BERT_model\"  # Change this to your actual model path\n",
    "\n",
    "tokenizer = AutoTokenizer.from_pretrained(model_path)\n",
    "model = AutoModelForTokenClassification.from_pretrained(model_path)"
   ]
  },
  {
   "cell_type": "code",
   "execution_count": 18,
   "metadata": {},
   "outputs": [
    {
     "name": "stderr",
     "output_type": "stream",
     "text": [
      "Device set to use cuda:0\n"
     ]
    }
   ],
   "source": [
    "ner_pipeline = pipeline(\"ner\", model=model, tokenizer=tokenizer, aggregation_strategy=\"first\")"
   ]
  },
  {
   "cell_type": "code",
   "execution_count": 20,
   "metadata": {},
   "outputs": [
    {
     "name": "stdout",
     "output_type": "stream",
     "text": [
      "{'entity_group': 'Event', 'score': np.float32(0.51848817), 'word': 'a', 'start': 20, 'end': 21}\n",
      "{'entity_group': 'Event', 'score': np.float32(0.5191728), 'word': 'service', 'start': 22, 'end': 29}\n",
      "{'entity_group': 'MAL-ORG', 'score': np.float32(0.4774585), 'word': 'Cicada3301', 'start': 53, 'end': 63}\n",
      "{'entity_group': 'Event', 'score': np.float32(0.5765971), 'word': 'extortion', 'start': 101, 'end': 110}\n",
      "{'entity_group': 'MAL-ORG', 'score': np.float32(0.4219878), 'word': 'Cicada3301', 'start': 537, 'end': 547}\n",
      "{'entity_group': 'ORG', 'score': np.float32(0.8734177), 'word': 'BleepingComputer', 'start': 712, 'end': 728}\n",
      "{'entity_group': 'MAL-ORG', 'score': np.float32(0.39950132), 'word': 'Cicada', 'start': 741, 'end': 747}\n",
      "{'entity_group': 'MAL-ORG', 'score': np.float32(0.40175334), 'word': 'Cicada3301', 'start': 904, 'end': 914}\n",
      "{'entity_group': 'Event', 'score': np.float32(0.6421849), 'word': 'double - extortion', 'start': 924, 'end': 940}\n",
      "{'entity_group': 'Event', 'score': np.float32(0.4795538), 'word': 'breach', 'start': 960, 'end': 966}\n",
      "{'entity_group': 'Event', 'score': np.float32(0.48691547), 'word': 'steal', 'start': 987, 'end': 992}\n",
      "{'entity_group': 'ORG', 'score': np.float32(0.9106672), 'word': 'Truesec', 'start': 1273, 'end': 1280}\n",
      "{'entity_group': 'MAL-ORG', 'score': np.float32(0.43897328), 'word': 'Cicada3301', 'start': 1319, 'end': 1329}\n",
      "{'entity_group': 'MAL-ORG', 'score': np.float32(0.3019421), 'word': 'ALPHV', 'start': 1334, 'end': 1339}\n",
      "{'entity_group': 'Software', 'score': np.float32(0.389704), 'word': 'BlackCat', 'start': 1340, 'end': 1348}\n",
      "{'entity_group': 'ORG', 'score': np.float32(0.6911502), 'word': \"ALPHV ' s\", 'start': 1408, 'end': 1415}\n",
      "{'entity_group': 'ORG', 'score': np.float32(0.47048995), 'word': 'ALPHV', 'start': 1481, 'end': 1486}\n",
      "{'entity_group': 'ORG', 'score': np.float32(0.6049058), 'word': 'FBI', 'start': 1561, 'end': 1564}\n",
      "{'entity_group': 'ORG', 'score': np.float32(0.8402107), 'word': 'Change Healthcare', 'start': 1636, 'end': 1653}\n",
      "{'entity_group': 'ORG', 'score': np.float32(0.71004856), 'word': 'Truesec', 'start': 1684, 'end': 1691}\n",
      "{'entity_group': 'ORG', 'score': np.float32(0.5883983), 'word': 'Cicada3301', 'start': 1728, 'end': 1738}\n",
      "{'entity_group': 'ORG', 'score': np.float32(0.70512605), 'word': 'Brutus', 'start': 1792, 'end': 1798}\n",
      "{'entity_group': 'ORG', 'score': np.float32(0.60414106), 'word': 'Cisco', 'start': 1943, 'end': 1948}\n",
      "{'entity_group': 'ORG', 'score': np.float32(0.5286805), 'word': 'Fortinet', 'start': 1950, 'end': 1958}\n",
      "{'entity_group': 'ORG', 'score': np.float32(0.57768416), 'word': 'Palo Alto', 'start': 1960, 'end': 1969}\n",
      "{'entity_group': 'ORG', 'score': np.float32(0.34936947), 'word': 'SonicWall', 'start': 1975, 'end': 1984}\n",
      "{'entity_group': 'ORG', 'score': np.float32(0.7009005), 'word': 'Brutus', 'start': 2024, 'end': 2030}\n",
      "{'entity_group': 'ORG', 'score': np.float32(0.70935154), 'word': 'ALPHV', 'start': 2074, 'end': 2079}\n",
      "{'entity_group': 'ORG', 'score': np.float32(0.6007248), 'word': 'Cicada3301', 'start': 2173, 'end': 2183}\n",
      "{'entity_group': 'ORG', 'score': np.float32(0.27479252), 'word': 'Rust', 'start': 2189, 'end': 2193}\n"
     ]
    }
   ],
   "source": [
    "text = \"\"\"A new ransomware-as-a-service (RaaS) operation named Cicada3301 has already listed 19 victims on its extortion portal, as it quickly attacked companies worldwide.\n",
    "The new cybercrime operation is named after the mysterious 2012-2014 online/real-world game that involved elaborate cryptographic puzzles and used the same logo for promotion on cybercrime forums.\n",
    "However, there's no connection between the two, and the legitimate project has issued a statement to renounce any association and condemn the ransomware operators' actions.\n",
    "The Cicada3301 RaaS first began promoting the operation and recruiting affiliates on June 29, 2024, in a forum post to the ransomware and cybercrime forum known as RAMP.\n",
    "However, BleepingComputer is aware of Cicada attacks as early as June 6, indicating that the gang was operating independently before attempting to recruit affiliates.\n",
    "Like other ransomware operations, Cicada3301 conducts double-extortion tactics where they breach corporate networks, steal data, and then encrypt devices. The encryption key and threats to leak stolen data are then used as leverage to scare victims into paying a ransom.\n",
    "The threat actors operate a data leak site that is used as part of their double-extortion scheme.\n",
    "An analysis of the new malware by Truesec revealed significant overlaps between Cicada3301 and ALPHV/BlackCat, indicating a possible rebrand or a fork created by former ALPHV's core team members.\n",
    "This is based on the fact that: \n",
    "For context, ALPHV performed an exit scam in early March 2024 involving fake claims about an FBI takedown operation after they stole a massive $22 million payment from Change Healthcare from one of their affiliates.\n",
    "Truesec has also found indications that the Cicada3301 ransomware operation may partner with or utilize the Brutus botnet for initial access to corporate networks. That botnet was previously associated with global-scale VPN brute-forcing activities targeting Cisco, Fortinet, Palo Alto, and SonicWall appliances.\n",
    "It's worth noting that the Brutus activity was first spotted two weeks after ALPHV shut down operations, so the link between the two groups still stands in terms of timelines.\n",
    "Cicada3301 is a Rust-based ransomware operation with both Windows and Linux/VMware ESXi encryptors. As part of Truesec's report, the researchers analyzed the VMWare ESXi Linux encryptor for the ransomware operation.\n",
    "Like BlackCat and other ransomware families, such as RansomHub, a special key must be entered as a command line argument to launch the encryptor. This key is used to decrypt an encrypted JSON blob that contains the configuration that the encryptor will use when encrypting a device.\n",
    "Truesec says that the encryptor checks for the validity of the key by using it to decrypt the ransom note and, if successful, continues with the rest of the encryption operation.\n",
    "Its main function (linux_enc) uses the ChaCha20 stream cipher for file encryption and then encrypts the symmetric key used in the process with an RSA key. The encryption keys are generated randomly using the 'OsRng' function.\n",
    "Cicada3301 targets specific file extensions matching documents and media files and checks their size to determine where to apply intermittent encryption (>100MB) and where to encrypt the entire file contents (<100MB).\n",
    "When encrypting files, the encryptor will append a random seven-character extension to the file name and create ransom notes named 'RECOVER-[extension]-DATA.txt,' as shown below. It should be noted that BlackCat/ALPHV encryptors also used random seven-character extensions and a ransom note named 'RECOVER-[extension]-FILES.txt.'\n",
    "The ransomware's operators can set a sleep parameter to delay the encryptor's execution, potentially to evade immediate detection.\n",
    "A \"no_vm_ss\" parameter also orders the malware to encrypt VMware ESXi virtual machines without attempting to shut them down first.\"\"\"\n",
    "#text = \"The redacted court order reveals that the threat actors breached Genea's network on January 31, 2025, through a Citrix server. Subsequently, they gained access to the company's primary file server, domain controller, backup program, and BabySentry primary patient management system. Two weeks later, on February 14, the attackers exfiltrated 940.7GB of data from Genea's compromised systems to a DigitalOcean cloud server under their control.\"\n",
    "# Run the model for Named Entity Recognition\n",
    "predictions = ner_pipeline(text)\n",
    "\n",
    "# Print results\n",
    "for entity in predictions:\n",
    "    print(entity)"
   ]
  },
  {
   "cell_type": "code",
   "execution_count": null,
   "metadata": {},
   "outputs": [],
   "source": []
  }
 ],
 "metadata": {
  "kernelspec": {
   "display_name": "Python 3",
   "language": "python",
   "name": "python3"
  },
  "language_info": {
   "codemirror_mode": {
    "name": "ipython",
    "version": 3
   },
   "file_extension": ".py",
   "mimetype": "text/x-python",
   "name": "python",
   "nbconvert_exporter": "python",
   "pygments_lexer": "ipython3",
   "version": "3.12.8"
  }
 },
 "nbformat": 4,
 "nbformat_minor": 4
}
