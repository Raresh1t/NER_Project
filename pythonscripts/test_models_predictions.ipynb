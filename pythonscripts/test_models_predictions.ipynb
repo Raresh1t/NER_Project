{
 "cells": [
  {
   "cell_type": "code",
   "execution_count": 5,
   "metadata": {},
   "outputs": [],
   "source": [
    "from transformers import AutoTokenizer, AutoModelForTokenClassification, pipeline\n",
    "\n",
    "# Load your fine-tuned model and tokenizer\n",
    "model_path = \"testmodel\"  # Change this to your actual model path\n",
    "\n",
    "tokenizer = AutoTokenizer.from_pretrained(model_path)\n",
    "model = AutoModelForTokenClassification.from_pretrained(model_path)"
   ]
  },
  {
   "cell_type": "code",
   "execution_count": 8,
   "metadata": {},
   "outputs": [
    {
     "name": "stderr",
     "output_type": "stream",
     "text": [
      "Device set to use cuda:0\n"
     ]
    }
   ],
   "source": [
    "ner_pipeline = pipeline(\"ner\", model=model, tokenizer=tokenizer, aggregation_strategy=\"first\")"
   ]
  },
  {
   "cell_type": "code",
   "execution_count": 9,
   "metadata": {},
   "outputs": [
    {
     "name": "stdout",
     "output_type": "stream",
     "text": [
      "{'entity_group': 'ORG', 'score': np.float32(0.21117336), 'word': 'GreyNoise', 'start': 28, 'end': 37}\n",
      "{'entity_group': 'ORG', 'score': np.float32(0.18722235), 'word': 'CVE', 'start': 173, 'end': 176}\n",
      "{'entity_group': 'CVE', 'score': np.float32(0.4279956), 'word': '- 2024 - 4577', 'start': 176, 'end': 186}\n",
      "{'entity_group': 'ORG', 'score': np.float32(0.2256279), 'word': 'PHP', 'start': 193, 'end': 196}\n",
      "{'entity_group': 'CVE', 'score': np.float32(0.1954003), 'word': '-', 'start': 196, 'end': 197}\n",
      "{'entity_group': 'ORG', 'score': np.float32(0.17721191), 'word': 'CGI', 'start': 197, 'end': 200}\n",
      "{'entity_group': 'ORG', 'score': np.float32(0.17379494), 'word': 'CGI', 'start': 308, 'end': 311}\n",
      "{'entity_group': 'ORG', 'score': np.float32(0.22178522), 'word': 'PHP', 'start': 490, 'end': 493}\n",
      "{'entity_group': 'ORG', 'score': np.float32(0.17325987), 'word': 'CVE', 'start': 515, 'end': 518}\n",
      "{'entity_group': 'CVE', 'score': np.float32(0.42585748), 'word': '- 2024 - 4577', 'start': 518, 'end': 528}\n",
      "{'entity_group': 'ORG', 'score': np.float32(0.17919531), 'word': 'WatchTowr', 'start': 554, 'end': 563}\n",
      "{'entity_group': 'ORG', 'score': np.float32(0.17945726), 'word': 'Shadowserver', 'start': 623, 'end': 635}\n",
      "{'entity_group': 'ORG', 'score': np.float32(0.1948915), 'word': 'GreyNoise', 'start': 690, 'end': 699}\n",
      "{'entity_group': 'ORG', 'score': np.float32(0.19967946), 'word': 'Cisco Talos', 'start': 722, 'end': 733}\n",
      "{'entity_group': 'ORG', 'score': np.float32(0.20083436), 'word': 'Talos', 'start': 892, 'end': 897}\n"
     ]
    }
   ],
   "source": [
    "text = \"\"\"Threat intelligence company GreyNoise warns that a critical PHP remote code execution vulnerability that impacts Windows systems is now under mass exploitation.\n",
    "\n",
    "Tracked as CVE-2024-4577, this PHP-CGI argument injection flaw was patched in June 2024 and affects Windows PHP installations with PHP running in CGI mode. Successful exploitation enables unauthenticated attackers to execute arbitrary code and leads to complete system compromise following successful exploitation.\n",
    "\n",
    "A day after PHP maintainers released CVE-2024-4577 patches on June 7, 2024, WatchTowr Labs released proof-of-concept (PoC) exploit code, and the Shadowserver Foundation reported observing exploitation attempts.\n",
    "\n",
    "GreyNoise's warning comes after Cisco Talos revealed earlier that an unknown attacker had exploited the same PHP vulnerability to target Japanese organizations since at least early January 2025.\n",
    "\n",
    "While Talos observed the attackers attempting to steal credentials, it believes their goals extend beyond just credential harvesting, based on post-exploitation activities, which include establishing persistence, elevating privileges to SYSTEM level, deployment of adversarial tools and frameworks, and usage of \"TaoWu\" Cobalt Strike kit plugins.\"\"\"\n",
    "#text = \"The redacted court order reveals that the threat actors breached Genea's network on January 31, 2025, through a Citrix server. Subsequently, they gained access to the company's primary file server, domain controller, backup program, and BabySentry primary patient management system. Two weeks later, on February 14, the attackers exfiltrated 940.7GB of data from Genea's compromised systems to a DigitalOcean cloud server under their control.\"\n",
    "# Run the model for Named Entity Recognition\n",
    "predictions = ner_pipeline(text)\n",
    "\n",
    "# Print results\n",
    "for entity in predictions:\n",
    "    print(entity)"
   ]
  },
  {
   "cell_type": "code",
   "execution_count": null,
   "metadata": {},
   "outputs": [],
   "source": []
  }
 ],
 "metadata": {
  "kernelspec": {
   "display_name": "Python 3",
   "language": "python",
   "name": "python3"
  },
  "language_info": {
   "codemirror_mode": {
    "name": "ipython",
    "version": 3
   },
   "file_extension": ".py",
   "mimetype": "text/x-python",
   "name": "python",
   "nbconvert_exporter": "python",
   "pygments_lexer": "ipython3",
   "version": "3.12.8"
  }
 },
 "nbformat": 4,
 "nbformat_minor": 4
}
